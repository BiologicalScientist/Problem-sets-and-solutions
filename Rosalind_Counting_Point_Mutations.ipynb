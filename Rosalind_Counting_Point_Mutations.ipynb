{
 "cells": [
  {
   "cell_type": "markdown",
   "metadata": {},
   "source": [
    "Problem\n",
    "Figure 2. The Hamming distance between these two strings is 7. Mismatched symbols are colored red.\n",
    "\n",
    "Given two strings s\n",
    "and t of equal length, the Hamming distance between s and t, denoted dH(s,t), is the number of corresponding symbols that differ in s and t. See Figure 2.\n",
    "\n",
    "Given: Two DNA strings s and t of equal length (not exceeding 1 kbp).\n",
    "\n",
    "Return: The Hamming distance dH(s,t).\n",
    "\n",
    "Sample Dataset\n",
    "\n",
    "GAGCCTACTAACGGGAT\n",
    "CATCGTAATGACGGCCT\n",
    "\n",
    "Sample Output\n",
    "\n",
    "7\n"
   ]
  },
  {
   "cell_type": "code",
   "execution_count": 9,
   "metadata": {},
   "outputs": [
    {
     "name": "stdout",
     "output_type": "stream",
     "text": [
      "1\n"
     ]
    }
   ],
   "source": [
    "f1 = 'GAGCCTACTAACGGGAT'\n",
    "f2 = 'CATCGTAATGACGGCCT'\n",
    "lenf = len (f1)\n",
    "ham = 0\n",
    "for i in (0, lenf-1):\n",
    "    if f1[i] == f2[i]:\n",
    "        ham = ham + 1\n",
    "    elif f1[i] != f2[i]:\n",
    "        ham = ham\n",
    "print (ham)\n"
   ]
  },
  {
   "cell_type": "code",
   "execution_count": 7,
   "metadata": {},
   "outputs": [
    {
     "data": {
      "text/plain": [
       "17"
      ]
     },
     "execution_count": 7,
     "metadata": {},
     "output_type": "execute_result"
    }
   ],
   "source": [
    "f1 = 'GAGCCTACTAACGGGAT'\n",
    "f2 = 'CATCGTAATGACGGCCT'\n",
    "f1 [0]\n",
    "len (f1)"
   ]
  },
  {
   "cell_type": "markdown",
   "metadata": {},
   "source": [
    "remember to put RANGE in front of your ranges not just the positions!"
   ]
  },
  {
   "cell_type": "code",
   "execution_count": 39,
   "metadata": {},
   "outputs": [
    {
     "name": "stdout",
     "output_type": "stream",
     "text": [
      "1\n",
      "17\n"
     ]
    }
   ],
   "source": [
    "f1 = 'GAGCCTACTAACGGGAT'\n",
    "f2 = 'CATCGTAATGACGGCCT'\n",
    "lenf = len (f1)\n",
    "ham = 0\n",
    "for i in (0, lenf-1):\n",
    "    if f1[i] == f2[i]:\n",
    "        ham = ham\n",
    "    elif f1[i] != f2[i]:\n",
    "        ham = ham + 1\n",
    "        \n",
    "print (ham)\n",
    "print (lenf)"
   ]
  },
  {
   "cell_type": "code",
   "execution_count": 38,
   "metadata": {},
   "outputs": [
    {
     "name": "stdout",
     "output_type": "stream",
     "text": [
      "7\n",
      "17\n"
     ]
    }
   ],
   "source": [
    "f1 = 'GAGCCTACTAACGGGAT'\n",
    "f2 = 'CATCGTAATGACGGCCT'\n",
    "lenf = len (f1)\n",
    "ham = 0\n",
    "for i in range (0, lenf-1):\n",
    "    if f1[i] == f2[i]:\n",
    "        ham = ham\n",
    "    elif f1[i] != f2[i]:\n",
    "        ham = ham + 1\n",
    "        \n",
    "print (ham)\n",
    "print (lenf)\n"
   ]
  },
  {
   "cell_type": "markdown",
   "metadata": {},
   "source": [
    "the bottom code works but the input style is not correct. need to split the initial two line file into two separate lines (? f.readlines() or f.read())"
   ]
  },
  {
   "cell_type": "code",
   "execution_count": 44,
   "metadata": {},
   "outputs": [
    {
     "name": "stdout",
     "output_type": "stream",
     "text": [
      "7\n",
      "18\n"
     ]
    }
   ],
   "source": [
    "f1 = open ('Inputs/Input_BS_4a_DNA.txt', 'r')\n",
    "f2 = open ('Inputs/Input_BS_4b_DNA.txt', 'r')\n",
    "rf1 = f1.read()\n",
    "rf2 = f2.read()\n",
    "lenf = len (rf1)\n",
    "ham = 0\n",
    "for i in range (0, lenf-1):\n",
    "    if rf1[i] == rf2[i]:\n",
    "        ham = ham\n",
    "    elif rf1[i] != rf2[i]:\n",
    "        ham = ham + 1\n",
    "        \n",
    "print (ham)\n",
    "print (lenf)"
   ]
  },
  {
   "cell_type": "code",
   "execution_count": 35,
   "metadata": {},
   "outputs": [
    {
     "name": "stdout",
     "output_type": "stream",
     "text": [
      "A\n",
      "A\n",
      "A\n",
      "A\n",
      "C\n",
      "C\n",
      "C\n",
      "G\n",
      "G\n"
     ]
    }
   ],
   "source": [
    "f = 'AAAACCCGGT'\n",
    "i = 1\n",
    "x = 0\n",
    "for i in range (0, len (f) - 1):\n",
    "    print (f[i])"
   ]
  },
  {
   "cell_type": "code",
   "execution_count": 46,
   "metadata": {},
   "outputs": [
    {
     "name": "stdout",
     "output_type": "stream",
     "text": [
      "[]\n",
      "[]\n",
      "0\n",
      "0\n"
     ]
    }
   ],
   "source": [
    "f = open ('Inputs/Input_BS_4_DNA.txt', 'r')\n",
    "rf1 = f1.read()\n",
    "rf2 = f2.readlines()\n",
    "lenf = len (rf1)\n",
    "ham = 0\n",
    "print (rf1)\n",
    "print (rf2)\n",
    "for i in range (0, lenf-1):\n",
    "    if rf1[i] == rf2[i]:\n",
    "        ham = ham\n",
    "    elif rf1[i] != rf2[i]:\n",
    "        ham = ham + 1\n",
    "        \n",
    "print (ham)\n",
    "print (lenf)"
   ]
  },
  {
   "cell_type": "code",
   "execution_count": null,
   "metadata": {},
   "outputs": [],
   "source": []
  }
 ],
 "metadata": {
  "kernelspec": {
   "display_name": "Python 3",
   "language": "python",
   "name": "python3"
  },
  "language_info": {
   "codemirror_mode": {
    "name": "ipython",
    "version": 3
   },
   "file_extension": ".py",
   "mimetype": "text/x-python",
   "name": "python",
   "nbconvert_exporter": "python",
   "pygments_lexer": "ipython3",
   "version": "3.7.3"
  }
 },
 "nbformat": 4,
 "nbformat_minor": 2
}
