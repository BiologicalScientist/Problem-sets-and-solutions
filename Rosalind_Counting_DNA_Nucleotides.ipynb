{
 "cells": [
  {
   "cell_type": "markdown",
   "metadata": {},
   "source": [
    "Problem\n",
    "\n",
    "A string is simply an ordered collection of symbols selected from some alphabet and formed into a word; the length of a string is the number of symbols that it contains.\n",
    "\n",
    "An example of a length 21 DNA string (whose alphabet contains the symbols 'A', 'C', 'G', and 'T') is \"ATGCTTCAGAAAGGTCTTACG.\"\n",
    "\n",
    "Given: A DNA string s\n",
    "\n",
    "of length at most 1000 nt.\n",
    "\n",
    "Return: Four integers (separated by spaces) counting the respective number of times that the symbols 'A', 'C', 'G', and 'T' occur in s\n",
    "\n",
    ".\n",
    "Sample Dataset\n",
    "\n",
    "AGCTTTTCATTCTGACTGCAACGGGCAATATGTCTCTGTGTGGATTAAAAAAAGAGTGTCTGATAGCAGC\n",
    "\n",
    "Sample Output\n",
    "\n",
    "20 12 17 21\n",
    "\n"
   ]
  },
  {
   "cell_type": "code",
   "execution_count": null,
   "metadata": {},
   "outputs": [],
   "source": [
    "#enter file details and open\n",
    "f = open ('Inputs/Input_BS_1_test.txt', 'r')\n",
    "dnaseq = (f.read())\n",
    "print (dnaseq)"
   ]
  },
  {
   "cell_type": "code",
   "execution_count": null,
   "metadata": {},
   "outputs": [],
   "source": [
    "#create output directory\n",
    "o = open ('Outputs/Output_BS_1_test.txt', 'w')"
   ]
  },
  {
   "cell_type": "code",
   "execution_count": null,
   "metadata": {},
   "outputs": [],
   "source": [
    "a = dnaseq.count('A')\n",
    "print (a)"
   ]
  },
  {
   "cell_type": "code",
   "execution_count": null,
   "metadata": {},
   "outputs": [],
   "source": [
    "c = dnaseq.count('C')\n",
    "t = dnaseq.count('T')\n",
    "g = dnaseq.count('G')\n",
    "print (c)\n",
    "print (t)\n",
    "print (g)"
   ]
  },
  {
   "cell_type": "code",
   "execution_count": null,
   "metadata": {},
   "outputs": [],
   "source": [
    "sa = str(a)\n",
    "print (sa)"
   ]
  },
  {
   "cell_type": "code",
   "execution_count": null,
   "metadata": {},
   "outputs": [],
   "source": [
    "sa = str(a)\n",
    "sc = str(c)\n",
    "sg = str(g)\n",
    "st = str(t)\n",
    "print (sa + ' ' + sc + ' ' + sg + ' ' + st)\n"
   ]
  },
  {
   "cell_type": "code",
   "execution_count": null,
   "metadata": {},
   "outputs": [],
   "source": [
    "sa = str(a)\n",
    "sc = str(c)\n",
    "sg = str(g)\n",
    "st = str(t)\n",
    "x = sa + ' ' + sc + ' ' + sg + ' ' + st\n",
    "y = str(x)\n",
    "o.write(y)"
   ]
  },
  {
   "cell_type": "code",
   "execution_count": null,
   "metadata": {},
   "outputs": [],
   "source": [
    "sa = str(a)\n",
    "sc = str(c)\n",
    "sg = str(g)\n",
    "st = str(t)\n",
    "x = sa + ' ' + sc + ' ' + sg + ' ' + st\n",
    "print (type (x))\n",
    "print (x)\n",
    "o.write(sa + ' ' + sc + ' ' + sg + ' ' + st)"
   ]
  },
  {
   "cell_type": "code",
   "execution_count": null,
   "metadata": {},
   "outputs": [],
   "source": [
    "r = open ('Outputs/Output_BS_1_test.txt', 'r')\n",
    "r.read()"
   ]
  },
  {
   "cell_type": "markdown",
   "metadata": {},
   "source": [
    "For some reason the code above doesn't run well but putting the same code into a single program and running in the shell did"
   ]
  },
  {
   "cell_type": "code",
   "execution_count": null,
   "metadata": {},
   "outputs": [],
   "source": [
    "#file counting /Code/COUNTING_DNA_NUCLEOTIDES.py\n",
    "#ASH SCRIPT USED ~/Jupyter-Notebooks$ python3 Code/COUNTING_DNA_NUCLEOTIDES.py \n",
    "#output 1:AGCTTTTCATTCTGACTGCAACGGGCAATATGTCTCTGTGTGGATTAAAAAAAGAGTGTCTGATAGCAGC\n",
    "#output 2:20 12 17 21\n",
    "#output 3:wrote 2 to file\n",
    "\n",
    "\n",
    "#enter file details and open\n",
    "f = open ('Inputs/Input_BS_1_test.txt', 'r')\n",
    "dnaseq = (f.read())\n",
    "print (dnaseq)\n",
    "#create output directory\n",
    "o = open ('Outputs/Output_BS_1_test.txt', 'w')\n",
    "a = dnaseq.count('A')\n",
    "c = dnaseq.count('C')\n",
    "t = dnaseq.count('T')\n",
    "g = dnaseq.count('G')\n",
    "sa = str(a)\n",
    "sc = str(c)\n",
    "sg = str(g)\n",
    "st = str(t)\n",
    "print (sa + ' ' + sc + ' ' + sg + ' ' + st)\n",
    "x = sa + ' ' + sc + ' ' + sg + ' ' + st\n",
    "y = str(x)\n",
    "o.write(y)"
   ]
  },
  {
   "cell_type": "markdown",
   "metadata": {},
   "source": [
    "running actual dataset"
   ]
  }
 ],
 "metadata": {
  "kernelspec": {
   "display_name": "Python 3",
   "language": "python",
   "name": "python3"
  },
  "language_info": {
   "codemirror_mode": {
    "name": "ipython",
    "version": 3
   },
   "file_extension": ".py",
   "mimetype": "text/x-python",
   "name": "python",
   "nbconvert_exporter": "python",
   "pygments_lexer": "ipython3",
   "version": "3.7.3"
  }
 },
 "nbformat": 4,
 "nbformat_minor": 2
}
