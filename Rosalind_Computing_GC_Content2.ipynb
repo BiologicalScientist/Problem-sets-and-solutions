{
 "cells": [
  {
   "cell_type": "markdown",
   "metadata": {},
   "source": [
    "Problem\n",
    "\n",
    "The GC-content of a DNA string is given by the percentage of symbols in the string that are 'C' or 'G'. For example, the GC-content of \"AGCTATAG\" is 37.5%. Note that the reverse complement of any DNA string has the same GC-content.\n",
    "\n",
    "DNA strings must be labeled when they are consolidated into a database. A commonly used method of string labeling is called FASTA format. In this format, the string is introduced by a line that begins with '>', followed by some labeling information. Subsequent lines contain the string itself; the first line to begin with '>' indicates the label of the next string.\n",
    "\n",
    "In Rosalind's implementation, a string in FASTA format will be labeled by the ID \"Rosalind_xxxx\", where \"xxxx\" denotes a four-digit code between 0000 and 9999.\n",
    "\n",
    "Given: At most 10 DNA strings in FASTA format (of length at most 1 kbp each).\n",
    "\n",
    "Return: The ID of the string having the highest GC-content, followed by the GC-content of that string. Rosalind allows for a default error of 0.001 in all decimal answers unless otherwise stated; please see the note on absolute error below.\n",
    "Sample Dataset\n",
    "\n",
    ">Rosalind_6404\n",
    "CCTGCGGAAGATCGGCACTAGAATAGCCAGAACCGTTTCTCTGAGGCTTCCGGCCTTCCC\n",
    "TCCCACTAATAATTCTGAGG\n",
    ">Rosalind_5959\n",
    "CCATCGGTAGCGCATCCTTAGTCCAATTAAGTCCCTATCCAGGCGCTCCGCCGAAGGTCT\n",
    "ATATCCATTTGTCAGCAGACACGC\n",
    ">Rosalind_0808\n",
    "CCACCCTCGTGGTATGGCTAGGCATTCAGGAACCGGAGAACGCTTCAGACCAGCCCGGAC\n",
    "TGGGAACCTGCGGGCAGTAGGTGGAAT\n",
    "\n",
    "Sample Output\n",
    "\n",
    "Rosalind_0808\n",
    "60.919540\n"
   ]
  },
  {
   "cell_type": "markdown",
   "metadata": {},
   "source": [
    "# Pseudocode\n",
    "\n",
    "what needs to be done:\n",
    "\n",
    "1. take FASTA input - split into headers and sequences dictionary\n",
    "2. iterate through sequences and determine GC content\n",
    "3. if GC greater than previous update GC_content variable to be and store header in sequence variable"
   ]
  },
  {
   "cell_type": "code",
   "execution_count": 1,
   "metadata": {},
   "outputs": [
    {
     "name": "stdout",
     "output_type": "stream",
     "text": [
      "{'Rosalind_6404': 'CCTGCGGAAGATCGGCACTAGAATAGCCAGAACCGTTTCTCTGAGGCTTCCGGCCTTCCCTCCCACTAATAATTCTGAGG', 'Rosalind_5959': 'CCATCGGTAGCGCATCCTTAGTCCAATTAAGTCCCTATCCAGGCGCTCCGCCGAAGGTCTATATCCATTTGTCAGCAGACACGC', 'Rosalind_0808': 'CCACCCTCGTGGTATGGCTAGGCATTCAGGAACCGGAGAACGCTTCAGACCAGCCCGGACTGGGAACCTGCGGGCAGTAGGTGGAAn'}\n"
     ]
    }
   ],
   "source": [
    "# open FASTA file and splite into headers and sequences dictionary from previous code\n",
    "\n",
    "fasta_file = open('Inputs/GC_content.txt', 'r') #open file in read mode\n",
    "FASTA_DICT = {} #initialise dictionary object\n",
    "\n",
    "for line in fasta_file: #iterate through the lines in the fasta file\n",
    "    line = line.rstrip() #remove the newline character from the end of the line\n",
    "    \n",
    "    if line[0] == '>':\n",
    "        seq_name = line[1:]\n",
    "        FASTA_DICT[seq_name] = '' # create empty entry in dictionary value \n",
    "    elif line[0] != '>':\n",
    "        sequence = line\n",
    "        FASTA_DICT[seq_name] = FASTA_DICT[seq_name] + sequence\n",
    "        \n",
    "fasta_file.close()\n",
    "\n",
    "print (FASTA_DICT)\n",
    "        "
   ]
  },
  {
   "cell_type": "code",
   "execution_count": 2,
   "metadata": {},
   "outputs": [
    {
     "name": "stdout",
     "output_type": "stream",
     "text": [
      "CCTGCGGAAGATCGGCACTAGAATAGCCAGAACCGTTTCTCTGAGGCTTCCGGCCTTCCCTCCCACTAATAATTCTGAGG\n",
      "CCATCGGTAGCGCATCCTTAGTCCAATTAAGTCCCTATCCAGGCGCTCCGCCGAAGGTCTATATCCATTTGTCAGCAGACACGC\n",
      "CCACCCTCGTGGTATGGCTAGGCATTCAGGAACCGGAGAACGCTTCAGACCAGCCCGGACTGGGAACCTGCGGGCAGTAGGTGGAAn\n"
     ]
    }
   ],
   "source": [
    "for sequences in FASTA_DICT.values():\n",
    "    print (sequences)"
   ]
  },
  {
   "cell_type": "code",
   "execution_count": 3,
   "metadata": {},
   "outputs": [
    {
     "name": "stdout",
     "output_type": "stream",
     "text": [
      "('Rosalind_6404', 'CCTGCGGAAGATCGGCACTAGAATAGCCAGAACCGTTTCTCTGAGGCTTCCGGCCTTCCCTCCCACTAATAATTCTGAGG')\n",
      "('Rosalind_5959', 'CCATCGGTAGCGCATCCTTAGTCCAATTAAGTCCCTATCCAGGCGCTCCGCCGAAGGTCTATATCCATTTGTCAGCAGACACGC')\n",
      "('Rosalind_0808', 'CCACCCTCGTGGTATGGCTAGGCATTCAGGAACCGGAGAACGCTTCAGACCAGCCCGGACTGGGAACCTGCGGGCAGTAGGTGGAAn')\n"
     ]
    }
   ],
   "source": [
    "for items in FASTA_DICT.items():\n",
    "    print (items)"
   ]
  },
  {
   "cell_type": "code",
   "execution_count": 4,
   "metadata": {},
   "outputs": [
    {
     "name": "stdout",
     "output_type": "stream",
     "text": [
      "Rosalind_6404\n",
      "Rosalind_5959\n",
      "Rosalind_0808\n"
     ]
    }
   ],
   "source": [
    "for headers in FASTA_DICT.keys():\n",
    "    print (headers)"
   ]
  },
  {
   "cell_type": "code",
   "execution_count": 5,
   "metadata": {},
   "outputs": [
    {
     "name": "stdout",
     "output_type": "stream",
     "text": [
      "53.75\n",
      "CCTGCGGAAGATCGGCACTAGAATAGCCAGAACCGTTTCTCTGAGGCTTCCGGCCTTCCCTCCCACTAATAATTCTGAGG\n",
      "53.57142857142857\n",
      "CCATCGGTAGCGCATCCTTAGTCCAATTAAGTCCCTATCCAGGCGCTCCGCCGAAGGTCTATATCCATTTGTCAGCAGACACGC\n",
      "60.91954022988506\n",
      "CCACCCTCGTGGTATGGCTAGGCATTCAGGAACCGGAGAACGCTTCAGACCAGCCCGGACTGGGAACCTGCGGGCAGTAGGTGGAAn\n"
     ]
    }
   ],
   "source": [
    "for sequences in FASTA_DICT.values():\n",
    "    GC = 0\n",
    "    length = len (sequences)\n",
    "    for nucleotide in sequences:\n",
    "        if nucleotide == 'C':\n",
    "            GC = GC + 1\n",
    "        if nucleotide == 'G':\n",
    "            GC = GC + 1\n",
    "        else: \n",
    "            continue\n",
    "    GC_percent = (GC / length) * 100\n",
    "    print (GC_percent)\n",
    "            \n",
    "    print (sequences)"
   ]
  },
  {
   "cell_type": "code",
   "execution_count": 6,
   "metadata": {},
   "outputs": [
    {
     "name": "stdout",
     "output_type": "stream",
     "text": [
      "53.75\n",
      "CCACCCTCGTGGTATGGCTAGGCATTCAGGAACCGGAGAACGCTTCAGACCAGCCCGGACTGGGAACCTGCGGGCAGTAGGTGGAAn\n",
      "53.57142857142857\n",
      "CCACCCTCGTGGTATGGCTAGGCATTCAGGAACCGGAGAACGCTTCAGACCAGCCCGGACTGGGAACCTGCGGGCAGTAGGTGGAAn\n",
      "60.91954022988506\n",
      "CCACCCTCGTGGTATGGCTAGGCATTCAGGAACCGGAGAACGCTTCAGACCAGCCCGGACTGGGAACCTGCGGGCAGTAGGTGGAAn\n",
      "Rosalind_0808 60.91954022988506\n"
     ]
    }
   ],
   "source": [
    "for header in FASTA_DICT.keys():\n",
    "    maxGC = 0\n",
    "    GC = 0\n",
    "    sequence = FASTA_DICT[header]\n",
    "    length = len (sequence)\n",
    "    for nucleotide in sequence:\n",
    "        if nucleotide == 'C':\n",
    "            GC = GC + 1\n",
    "        if nucleotide == 'G':\n",
    "            GC = GC + 1\n",
    "        else: \n",
    "            continue\n",
    "    GC_percent = (GC / length) * 100\n",
    "    if GC_percent > maxGC:\n",
    "        maxGC = GC_percent\n",
    "        maxsequence = header\n",
    "    print (GC_percent)\n",
    "            \n",
    "    print (sequences)\n",
    "    \n",
    "print (maxsequence, maxGC)"
   ]
  },
  {
   "cell_type": "code",
   "execution_count": 8,
   "metadata": {},
   "outputs": [
    {
     "name": "stdout",
     "output_type": "stream",
     "text": [
      "Rosalind_0808 contains invalid sequence\n",
      "Rosalind_0808\n",
      "60.91954022988506\n"
     ]
    }
   ],
   "source": [
    "for header in FASTA_DICT.keys(): #take the key from the dictionary FASTA_DICT and store as header variable\n",
    "    maxGC = 0 #initialise maximum GC variable\n",
    "    GC = 0 # initialise GC variable\n",
    "    sequence = FASTA_DICT[header] # take the value for the header key in FASTA_DICAT and store sequence variable\n",
    "    length = len (sequence) #take length of the sequence variable (total sequence length)\n",
    "    for nucleotide in sequence: #iterate through each nucleotide in the sequence variable\n",
    "        if nucleotide == 'C':\n",
    "            GC = GC + 1\n",
    "        if nucleotide == 'G':\n",
    "            GC = GC + 1 # if the nucleotide is a G or C then increase GC count by 1 else continue to next variable\n",
    "        if nucleotide not in ['A', 'T', 'C', 'G']:\n",
    "            print (header, 'contains invalid sequence')\n",
    "        else: \n",
    "            continue\n",
    "    GC_percent = (GC / length) * 100\n",
    "    if GC_percent > maxGC:\n",
    "        maxGC = str(GC_percent)\n",
    "        maxsequence = header\n",
    "\n",
    "    \n",
    "print (maxsequence)\n",
    "print (maxGC)"
   ]
  },
  {
   "cell_type": "code",
   "execution_count": 20,
   "metadata": {},
   "outputs": [
    {
     "name": "stdout",
     "output_type": "stream",
     "text": [
      "Rosalind_0808\n",
      "60.91954022988506\n"
     ]
    }
   ],
   "source": [
    "# open FASTA file and splite into headers and sequences dictionary from previous code\n",
    "\n",
    "fasta_file = open('Inputs/GC_content.txt', 'r') #open file in read mode\n",
    "FASTA_DICT = {} #initialise dictionary object\n",
    "\n",
    "for line in fasta_file: #iterate through the lines in the fasta file\n",
    "    line = line.rstrip() #remove the newline character from the end of the line\n",
    "    \n",
    "    if line[0] == '>':\n",
    "        seq_name = line[1:]\n",
    "        FASTA_DICT[seq_name] = '' # create empty entry in dictionary value \n",
    "    elif line[0] != '>':\n",
    "        sequence = line\n",
    "        FASTA_DICT[seq_name] = FASTA_DICT[seq_name] + sequence\n",
    "        \n",
    "fasta_file.close()\n",
    "\n",
    "# compute GC content and print maximum on screen\n",
    "maxGC = 0 #initialise maximum GC variable (needs to be outside of for loop)\n",
    "for header in FASTA_DICT.keys(): #take the key from the dictionary FASTA_DICT and store as header variable\n",
    "    GC = 0 # initialise GC variable\n",
    "    sequence = FASTA_DICT[header] # take the value for the header key in FASTA_DICAT and store sequence variable\n",
    "    length = len (sequence) #take length of the sequence variable (total sequence length)\n",
    "    for nucleotide in sequence: #iterate through each nucleotide in the sequence variable\n",
    "        if nucleotide == 'C':\n",
    "            GC = GC + 1\n",
    "        if nucleotide == 'G':\n",
    "            GC = GC + 1 # if the nucleotide is a G or C then increase GC count by 1 else continue to next variable\n",
    "        if nucleotide not in ['A', 'T', 'C', 'G']:\n",
    "            print (header, 'contains invalid sequence')\n",
    "        else: \n",
    "            continue\n",
    "    GC_percent = (GC / length) * 100\n",
    "    if GC_percent > maxGC:\n",
    "        maxGC = GC_percent\n",
    "        maxGCstr = str(maxGC)\n",
    "        maxsequence = header\n",
    "    else:\n",
    "        continue\n",
    "\n",
    "    \n",
    "print (maxsequence)\n",
    "print (maxGCstr)        "
   ]
  },
  {
   "cell_type": "markdown",
   "metadata": {},
   "source": [
    "# Final script\n",
    "# required code name and input file as arguments\n",
    "\n",
    "#open FASTA file and splite into headers and sequences dictionary from previous code\n",
    "\n",
    "\n",
    "\"\"\"\n",
    "including the following code at the beginning of the script will specify arguments in the command line\n",
    "that refer to variables in the code. This particular one gives the filename as a variable which is the \n",
    "second argument (after the actual script) can include multiple arguments. The try function will check if\n",
    "there is an input there or print an error if none is found.\n",
    "\n",
    "import sys\n",
    "filename = sys.argv[1]\n",
    "\n",
    "try:\n",
    "    fasta_file = open(filename, 'r') #open file in read mode\n",
    "except IOError:\n",
    "    print ('file does not exist')\n",
    "\n",
    "\"\"\"\n",
    "\n",
    "import sys\n",
    "filename = sys.argv[1]\n",
    "\n",
    "try:\n",
    "    fasta_file = open(filename, 'r') #open file in read mode\n",
    "except IOError:\n",
    "    print ('file does not exist')\n",
    "    \n",
    "\n",
    "FASTA_DICT = {} #initialise dictionary object\n",
    "\n",
    "for line in fasta_file: #iterate through the lines in the fasta file\n",
    "    line = line.rstrip() #remove the newline character from the end of the line\n",
    "    \n",
    "    if line[0] == '>':\n",
    "        seq_name = line[1:]\n",
    "        FASTA_DICT[seq_name] = '' # create empty entry in dictionary value \n",
    "    elif line[0] != '>':\n",
    "        sequence = line\n",
    "        FASTA_DICT[seq_name] = FASTA_DICT[seq_name] + sequence\n",
    "        \n",
    "fasta_file.close()\n",
    "\n",
    "# compute GC content and print maximum on screen\n",
    "maxGC = 0 #initialise maximum GC variable (needs to be outside of for loop)\n",
    "for header in FASTA_DICT.keys(): #take the key from the dictionary FASTA_DICT and store as header variable\n",
    "    GC = 0 # initialise GC variable\n",
    "    sequence = FASTA_DICT[header] # take the value for the header key in FASTA_DICAT and store sequence variable\n",
    "    length = len (sequence) #take length of the sequence variable (total sequence length)\n",
    "    for nucleotide in sequence: #iterate through each nucleotide in the sequence variable\n",
    "        if nucleotide == 'C':\n",
    "            GC = GC + 1\n",
    "        if nucleotide == 'G':\n",
    "            GC = GC + 1 # if the nucleotide is a G or C then increase GC count by 1 else continue to next variable\n",
    "        if nucleotide not in ['A', 'T', 'C', 'G']:\n",
    "            print (header, 'contains invalid sequence')\n",
    "        else: \n",
    "            continue\n",
    "    GC_percent = (GC / length) * 100\n",
    "    if GC_percent > maxGC:\n",
    "        maxGC = GC_percent\n",
    "        maxGCstr = str(maxGC)\n",
    "        maxsequence = header\n",
    "    else:\n",
    "        continue\n",
    "\n",
    "    \n",
    "print (maxsequence)\n",
    "print (maxGCstr)        "
   ]
  }
 ],
 "metadata": {
  "kernelspec": {
   "display_name": "Python 3",
   "language": "python",
   "name": "python3"
  },
  "language_info": {
   "codemirror_mode": {
    "name": "ipython",
    "version": 3
   },
   "file_extension": ".py",
   "mimetype": "text/x-python",
   "name": "python",
   "nbconvert_exporter": "python",
   "pygments_lexer": "ipython3",
   "version": "3.7.3"
  }
 },
 "nbformat": 4,
 "nbformat_minor": 2
}
