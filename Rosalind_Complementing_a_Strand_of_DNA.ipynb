{
 "cells": [
  {
   "cell_type": "markdown",
   "metadata": {},
   "source": [
    "Problem\n",
    "\n",
    "In DNA strings, symbols 'A' and 'T' are complements of each other, as are 'C' and 'G'.\n",
    "\n",
    "The reverse complement of a DNA string s is the string sc formed by reversing the symbols of s, then taking the complement of each symbol (e.g., the reverse complement of \"GTCA\" is \"TGAC\").\n",
    "\n",
    "Given: A DNA string s\n",
    "\n",
    "of length at most 1000 bp.\n",
    "\n",
    "Return: The reverse complement sc of s\n",
    "\n",
    "Sample Dataset\n",
    "\n",
    "AAAACCCGGT\n",
    "\n",
    "Sample Output\n",
    "\n",
    "ACCGGGTTTT\n"
   ]
  },
  {
   "cell_type": "code",
   "execution_count": 1,
   "metadata": {},
   "outputs": [
    {
     "name": "stdout",
     "output_type": "stream",
     "text": [
      "A\n",
      "A\n",
      "A\n",
      "A\n",
      "C\n",
      "C\n",
      "C\n",
      "G\n",
      "G\n",
      "T\n"
     ]
    }
   ],
   "source": [
    "f = 'AAAACCCGGT'\n",
    "i = 1\n",
    "for i in f:\n",
    "    print (i)"
   ]
  },
  {
   "cell_type": "markdown",
   "metadata": {},
   "source": [
    "COMPLEMENTING PORTION OF CODE"
   ]
  },
  {
   "cell_type": "code",
   "execution_count": 2,
   "metadata": {},
   "outputs": [
    {
     "name": "stdout",
     "output_type": "stream",
     "text": [
      "10\n",
      "T\n",
      "T\n",
      "T\n",
      "T\n",
      "G\n",
      "G\n",
      "G\n",
      "C\n",
      "C\n",
      "A\n"
     ]
    }
   ],
   "source": [
    "f = 'AAAACCCGGT'\n",
    "i = len (f)\n",
    "print (i)\n",
    "\n",
    "for i in f:\n",
    "    if i == 'A':\n",
    "        print ('T')\n",
    "    elif i == 'T':\n",
    "        print ('A')\n",
    "    elif i == 'G':\n",
    "        print ('C')\n",
    "    elif i == 'C':\n",
    "        print ('G')"
   ]
  },
  {
   "cell_type": "code",
   "execution_count": 3,
   "metadata": {},
   "outputs": [
    {
     "name": "stdout",
     "output_type": "stream",
     "text": [
      "10\n"
     ]
    },
    {
     "ename": "TypeError",
     "evalue": "'in <string>' requires string as left operand, not range",
     "output_type": "error",
     "traceback": [
      "\u001b[0;31m---------------------------------------------------------------------------\u001b[0m",
      "\u001b[0;31mTypeError\u001b[0m                                 Traceback (most recent call last)",
      "\u001b[0;32m<ipython-input-3-40c680561936>\u001b[0m in \u001b[0;36m<module>\u001b[0;34m\u001b[0m\n\u001b[1;32m      3\u001b[0m \u001b[0mprint\u001b[0m \u001b[0;34m(\u001b[0m\u001b[0mi\u001b[0m\u001b[0;34m)\u001b[0m\u001b[0;34m\u001b[0m\u001b[0;34m\u001b[0m\u001b[0m\n\u001b[1;32m      4\u001b[0m \u001b[0;34m\u001b[0m\u001b[0m\n\u001b[0;32m----> 5\u001b[0;31m \u001b[0;32mfor\u001b[0m \u001b[0mi\u001b[0m \u001b[0;32min\u001b[0m \u001b[0mrange\u001b[0m \u001b[0;34m(\u001b[0m\u001b[0;34m-\u001b[0m\u001b[0;36m4\u001b[0m\u001b[0;34m,\u001b[0m \u001b[0;36m0\u001b[0m\u001b[0;34m)\u001b[0m \u001b[0;32min\u001b[0m \u001b[0mf\u001b[0m\u001b[0;34m:\u001b[0m\u001b[0;34m\u001b[0m\u001b[0;34m\u001b[0m\u001b[0m\n\u001b[0m\u001b[1;32m      6\u001b[0m     \u001b[0;32mif\u001b[0m \u001b[0mi\u001b[0m \u001b[0;34m==\u001b[0m \u001b[0;34m'A'\u001b[0m\u001b[0;34m:\u001b[0m\u001b[0;34m\u001b[0m\u001b[0;34m\u001b[0m\u001b[0m\n\u001b[1;32m      7\u001b[0m         \u001b[0mprint\u001b[0m \u001b[0;34m(\u001b[0m\u001b[0;34m'T'\u001b[0m\u001b[0;34m)\u001b[0m\u001b[0;34m\u001b[0m\u001b[0;34m\u001b[0m\u001b[0m\n",
      "\u001b[0;31mTypeError\u001b[0m: 'in <string>' requires string as left operand, not range"
     ]
    }
   ],
   "source": [
    "f = 'AAAACCCGGT'\n",
    "i = len (f)\n",
    "print (i)\n",
    "\n",
    "for i in range (-4, 0) in f:\n",
    "    if i == 'A':\n",
    "        print ('T')\n",
    "    elif i == 'T':\n",
    "        print ('A')\n",
    "    elif i == 'G':\n",
    "        print ('C')\n",
    "    elif i == 'C':\n",
    "        print ('G')"
   ]
  },
  {
   "cell_type": "code",
   "execution_count": null,
   "metadata": {},
   "outputs": [],
   "source": [
    "for i in range (-1, -len (f) - 1, -1):\n",
    "    print (i)"
   ]
  },
  {
   "cell_type": "code",
   "execution_count": 4,
   "metadata": {},
   "outputs": [],
   "source": [
    "#DIDN'T WORK\n",
    "#while i in range (-1, -len (f) - 1, -1):\n",
    "#    for x in f:\n",
    "#        if x == 'A':\n",
    "#            print ('T')\n",
    "#        elif x == 'T':\n",
    "#            print ('A')\n",
    "#        elif x == 'G':\n",
    "#            print ('C')\n",
    "#        elif x == 'C':\n",
    "#            print ('G')"
   ]
  },
  {
   "cell_type": "code",
   "execution_count": 16,
   "metadata": {},
   "outputs": [
    {
     "name": "stdout",
     "output_type": "stream",
     "text": [
      "-1\n",
      "T\n"
     ]
    }
   ],
   "source": [
    "f = 'AAAACCCGGT'\n",
    "i = -1\n",
    "x = 0\n",
    "print (i)\n",
    "\n",
    "print (f[-1])\n"
   ]
  },
  {
   "cell_type": "code",
   "execution_count": 17,
   "metadata": {},
   "outputs": [
    {
     "name": "stdout",
     "output_type": "stream",
     "text": [
      "-1\n",
      "-2\n",
      "-3\n",
      "-4\n",
      "-5\n",
      "-6\n",
      "-7\n",
      "-8\n",
      "-9\n",
      "-10\n"
     ]
    }
   ],
   "source": [
    "for i in range (-1, -len (f) - 1, -1):\n",
    "    print (i)"
   ]
  },
  {
   "cell_type": "markdown",
   "metadata": {},
   "source": [
    "REVERSING PORTION OF CODE"
   ]
  },
  {
   "cell_type": "code",
   "execution_count": 18,
   "metadata": {},
   "outputs": [
    {
     "name": "stdout",
     "output_type": "stream",
     "text": [
      "T\n",
      "G\n",
      "G\n",
      "C\n",
      "C\n",
      "C\n",
      "A\n",
      "A\n",
      "A\n",
      "A\n"
     ]
    }
   ],
   "source": [
    "f = 'AAAACCCGGT'\n",
    "i = 1\n",
    "x = 0\n",
    "for i in range (1, len (f) + 1):\n",
    "    print (f[-i])\n"
   ]
  },
  {
   "cell_type": "code",
   "execution_count": 20,
   "metadata": {},
   "outputs": [
    {
     "ename": "TypeError",
     "evalue": "'_io.TextIOWrapper' object is not subscriptable",
     "output_type": "error",
     "traceback": [
      "\u001b[0;31m---------------------------------------------------------------------------\u001b[0m",
      "\u001b[0;31mTypeError\u001b[0m                                 Traceback (most recent call last)",
      "\u001b[0;32m<ipython-input-20-2bd4da04e57a>\u001b[0m in \u001b[0;36m<module>\u001b[0;34m\u001b[0m\n\u001b[1;32m      5\u001b[0m \u001b[0mx\u001b[0m \u001b[0;34m=\u001b[0m \u001b[0;36m0\u001b[0m\u001b[0;34m\u001b[0m\u001b[0;34m\u001b[0m\u001b[0m\n\u001b[1;32m      6\u001b[0m \u001b[0;32mfor\u001b[0m \u001b[0mi\u001b[0m \u001b[0;32min\u001b[0m \u001b[0mrange\u001b[0m \u001b[0;34m(\u001b[0m\u001b[0;36m1\u001b[0m\u001b[0;34m,\u001b[0m \u001b[0mlenf\u001b[0m \u001b[0;34m+\u001b[0m \u001b[0;36m1\u001b[0m\u001b[0;34m)\u001b[0m\u001b[0;34m:\u001b[0m\u001b[0;34m\u001b[0m\u001b[0;34m\u001b[0m\u001b[0m\n\u001b[0;32m----> 7\u001b[0;31m     \u001b[0mr\u001b[0m\u001b[0;34m.\u001b[0m\u001b[0mwrite\u001b[0m \u001b[0;34m(\u001b[0m\u001b[0mf\u001b[0m\u001b[0;34m[\u001b[0m\u001b[0;34m-\u001b[0m\u001b[0mi\u001b[0m\u001b[0;34m]\u001b[0m\u001b[0;34m)\u001b[0m\u001b[0;34m\u001b[0m\u001b[0;34m\u001b[0m\u001b[0m\n\u001b[0m\u001b[1;32m      8\u001b[0m \u001b[0mr\u001b[0m\u001b[0;34m.\u001b[0m\u001b[0mclose\u001b[0m\u001b[0;34m(\u001b[0m\u001b[0;34m)\u001b[0m\u001b[0;34m\u001b[0m\u001b[0;34m\u001b[0m\u001b[0m\n",
      "\u001b[0;31mTypeError\u001b[0m: '_io.TextIOWrapper' object is not subscriptable"
     ]
    }
   ],
   "source": [
    "f = open ('Inputs/Input_BS_3_test.txt', 'r')\n",
    "lenf = len (f.read())\n",
    "r = open ('Inputs/Input_BS_3_test_rev.txt', 'w')\n",
    "i = 1\n",
    "x = 0\n",
    "for i in range (1, lenf + 1):\n",
    "    r.write (f[-i])\n",
    "r.close()\n"
   ]
  },
  {
   "cell_type": "markdown",
   "metadata": {},
   "source": [
    "it appears you cannot have f.read() twice in one code i.e. not fread = f.read() and lenf = len (f.read()) as the first one removes the data in the file object"
   ]
  },
  {
   "cell_type": "code",
   "execution_count": 34,
   "metadata": {},
   "outputs": [],
   "source": [
    "f = open ('Inputs/Input_BS_3_test.txt', 'r')\n",
    "fread = f.read()\n",
    "lenf = len (fread)\n",
    "r = open ('Inputs/Input_BS_3_test_rev.txt', 'w')\n",
    "i = 1\n",
    "x = 0\n",
    "for i in range (1, lenf + 1):\n",
    "    r.write (fread[-i])\n",
    "r.close()\n"
   ]
  },
  {
   "cell_type": "code",
   "execution_count": 32,
   "metadata": {},
   "outputs": [
    {
     "name": "stdout",
     "output_type": "stream",
     "text": [
      "AAAACCCGGT\n",
      "\n",
      "11\n"
     ]
    },
    {
     "data": {
      "text/plain": [
       "str"
      ]
     },
     "execution_count": 32,
     "metadata": {},
     "output_type": "execute_result"
    }
   ],
   "source": [
    "f = open ('Inputs/Input_BS_3_test.txt', 'r')\n",
    "fread = f.read()\n",
    "print (fread)\n",
    "lenf = len (fread)\n",
    "print (lenf)\n",
    "type (fread)"
   ]
  },
  {
   "cell_type": "code",
   "execution_count": 33,
   "metadata": {},
   "outputs": [
    {
     "name": "stdout",
     "output_type": "stream",
     "text": [
      "AAAACCCGGT\n",
      "\n",
      "0\n"
     ]
    },
    {
     "data": {
      "text/plain": [
       "str"
      ]
     },
     "execution_count": 33,
     "metadata": {},
     "output_type": "execute_result"
    }
   ],
   "source": [
    "f = open ('Inputs/Input_BS_3_test.txt', 'r')\n",
    "fread = f.read()\n",
    "print (fread)\n",
    "lenf = len (f.read())\n",
    "print (lenf)\n",
    "type (fread)"
   ]
  },
  {
   "cell_type": "code",
   "execution_count": 23,
   "metadata": {},
   "outputs": [
    {
     "name": "stdout",
     "output_type": "stream",
     "text": [
      "\n"
     ]
    }
   ],
   "source": [
    "r = open ('Inputs/Input_BS_3_test_rev.txt', 'r')\n",
    "print (r.read())"
   ]
  },
  {
   "cell_type": "code",
   "execution_count": null,
   "metadata": {},
   "outputs": [],
   "source": [
    "f = 'AAAACCCGGT'\n",
    "i = len (f)\n",
    "print (i)\n",
    "\n",
    "for i in f:\n",
    "    if i == 'A':\n",
    "        print ('T')\n",
    "    elif i == 'T':\n",
    "        print ('A')\n",
    "    elif i == 'G':\n",
    "        print ('C')\n",
    "    elif i == 'C':\n",
    "        print ('G')"
   ]
  },
  {
   "cell_type": "code",
   "execution_count": 37,
   "metadata": {
    "scrolled": true
   },
   "outputs": [
    {
     "name": "stdout",
     "output_type": "stream",
     "text": [
      "\n",
      "TGGCCCAAAA\n",
      "A\n",
      "C\n",
      "C\n",
      "G\n",
      "G\n",
      "G\n",
      "T\n",
      "T\n",
      "T\n",
      "T\n"
     ]
    }
   ],
   "source": [
    "f = open ('Inputs/Input_BS_3_test.txt', 'r')\n",
    "fread = f.read()\n",
    "lenf = len (fread)\n",
    "r = open ('Inputs/Input_BS_3_test_rev.txt', 'w')\n",
    "i = 1\n",
    "x = 0\n",
    "for i in range (1, lenf + 1):\n",
    "    r.write (fread[-i])\n",
    "r.close()\n",
    "f2 = open ('Inputs/Input_BS_3_test_rev.txt', 'r')\n",
    "f2read = f2.read()\n",
    "print (f2read)\n",
    "i = len (f2read)\n",
    "for i in f2read:\n",
    "    if i == 'A':\n",
    "        print ('T')\n",
    "    elif i == 'T':\n",
    "        print ('A')\n",
    "    elif i == 'G':\n",
    "        print ('C')\n",
    "    elif i == 'C':\n",
    "        print ('G')"
   ]
  },
  {
   "cell_type": "markdown",
   "metadata": {},
   "source": [
    "The below code worked"
   ]
  },
  {
   "cell_type": "code",
   "execution_count": 38,
   "metadata": {},
   "outputs": [
    {
     "name": "stdout",
     "output_type": "stream",
     "text": [
      "\n",
      "TGGCCCAAAA\n"
     ]
    }
   ],
   "source": [
    "f = open ('Inputs/Input_BS_3_test.txt', 'r')\n",
    "fread = f.read()\n",
    "lenf = len (fread)\n",
    "r = open ('Inputs/Input_BS_3_test_rev.txt', 'w')\n",
    "i = 1\n",
    "x = 0\n",
    "for i in range (1, lenf + 1):\n",
    "    r.write (fread[-i])\n",
    "r.close()\n",
    "f2 = open ('Inputs/Input_BS_3_test_rev.txt', 'r')\n",
    "o = open ('Outputs/Output_BS_3_test_rev_comp.txt', 'w')\n",
    "f2read = f2.read()\n",
    "print (f2read)\n",
    "i = len (f2read)\n",
    "for i in f2read:\n",
    "    if i == 'A':\n",
    "        o.write ('T')\n",
    "    elif i == 'T':\n",
    "        o.write ('A')\n",
    "    elif i == 'G':\n",
    "        o.write ('C')\n",
    "    elif i == 'C':\n",
    "        o.write ('G')\n",
    "o.close()"
   ]
  }
 ],
 "metadata": {
  "kernelspec": {
   "display_name": "Python 3",
   "language": "python",
   "name": "python3"
  },
  "language_info": {
   "codemirror_mode": {
    "name": "ipython",
    "version": 3
   },
   "file_extension": ".py",
   "mimetype": "text/x-python",
   "name": "python",
   "nbconvert_exporter": "python",
   "pygments_lexer": "ipython3",
   "version": "3.7.3"
  }
 },
 "nbformat": 4,
 "nbformat_minor": 2
}
