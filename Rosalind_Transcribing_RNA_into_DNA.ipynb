{
 "cells": [
  {
   "cell_type": "markdown",
   "metadata": {},
   "source": [
    "Problem\n",
    "\n",
    "An RNA string is a string formed from the alphabet containing 'A', 'C', 'G', and 'U'.\n",
    "\n",
    "Given a DNA string t\n",
    "corresponding to a coding strand, its transcribed RNA string u is formed by replacing all occurrences of 'T' in t with 'U' in u\n",
    "\n",
    "Given: A DNA string t\n",
    "\n",
    "having length at most 1000 nt.\n",
    "\n",
    "Return: The transcribed RNA string of t\n",
    "\n",
    "Sample Dataset\n",
    "\n",
    "GATGGAACTTGACTACGTAAATT\n",
    "\n",
    "Sample Output\n",
    "\n",
    "GAUGGAACUUGACUACGUAAAUU\n"
   ]
  },
  {
   "cell_type": "code",
   "execution_count": 8,
   "metadata": {
    "scrolled": true
   },
   "outputs": [
    {
     "name": "stdout",
     "output_type": "stream",
     "text": [
      "G\n",
      "A\n",
      "U\n",
      "G\n",
      "G\n",
      "A\n",
      "A\n",
      "C\n",
      "U\n",
      "U\n",
      "G\n",
      "A\n",
      "C\n",
      "U\n",
      "A\n",
      "C\n",
      "G\n",
      "U\n",
      "A\n",
      "A\n",
      "A\n",
      "U\n",
      "U\n"
     ]
    }
   ],
   "source": [
    "i = 0\n",
    "for i in 'GATGGAACTTGACTACGTAAATT':\n",
    "    if i == 'T':\n",
    "        print ('U')\n",
    "    elif i != 'T': \n",
    "        print (i)"
   ]
  },
  {
   "cell_type": "markdown",
   "metadata": {},
   "source": [
    "The above code worked after some modifying to get correct syntax but the output isn't really what we wanted"
   ]
  },
  {
   "cell_type": "code",
   "execution_count": 13,
   "metadata": {},
   "outputs": [],
   "source": [
    "f = open (\"Inputs/Input_BS_2_test.txt\", 'r')\n",
    "o = open (\"Outputs/BS_2_test.txt\", 'w')\n",
    "i = 0\n",
    "for i in 'GATGGAACTTGACTACGTAAATT':\n",
    "    if i == 'T':\n",
    "        o.write ('U')\n",
    "    elif i != 'T': \n",
    "        o.write (i)\n",
    "o.close()"
   ]
  },
  {
   "cell_type": "markdown",
   "metadata": {},
   "source": [
    "Make sure you have the correct for i in. also added the o.close() to make sure file object is closed after use"
   ]
  },
  {
   "cell_type": "code",
   "execution_count": 18,
   "metadata": {},
   "outputs": [],
   "source": [
    "f = open (\"Inputs/rosalind_rna.txt\", 'r')\n",
    "o = open (\"Outputs/BS_2.txt\", 'w')\n",
    "i = 0\n",
    "for i in f.read():\n",
    "    if i == 'T':\n",
    "        o.write ('U')\n",
    "    elif i != 'T': \n",
    "        o.write (i)\n",
    "o.close()"
   ]
  },
  {
   "cell_type": "code",
   "execution_count": null,
   "metadata": {},
   "outputs": [],
   "source": []
  }
 ],
 "metadata": {
  "kernelspec": {
   "display_name": "Python 3",
   "language": "python",
   "name": "python3"
  },
  "language_info": {
   "codemirror_mode": {
    "name": "ipython",
    "version": 3
   },
   "file_extension": ".py",
   "mimetype": "text/x-python",
   "name": "python",
   "nbconvert_exporter": "python",
   "pygments_lexer": "ipython3",
   "version": "3.7.3"
  }
 },
 "nbformat": 4,
 "nbformat_minor": 2
}
