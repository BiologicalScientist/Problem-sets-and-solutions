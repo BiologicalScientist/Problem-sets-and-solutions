{
 "cells": [
  {
   "cell_type": "markdown",
   "metadata": {},
   "source": [
    "Problem\n",
    "\n",
    "Given two strings s\n",
    "and t, t is a substring of s if t is contained as a contiguous collection of symbols in s (as a result, t must be no longer than s).\n",
    "\n",
    "The position of a symbol in a string is the total number of symbols found to its left, including itself (e.g., the positions of all occurrences of 'U' in \"AUGCUUCAGAAAGGUCUUACG\" are 2, 5, 6, 15, 17, and 18). The symbol at position i of s is denoted by s[i].\n",
    "\n",
    "A substring of s can be represented as s[j:k], where j and k represent the starting and ending positions of the substring in s; for example, if s = \"AUGCUUCAGAAAGGUCUUACG\", then s[2:5] = \"UGCU\".\n",
    "\n",
    "The location of a substring s[j:k] is its beginning position j; note that t will have multiple locations in s if it occurs more than once as a substring of s (see the Sample below).\n",
    "\n",
    "Given: Two DNA strings s\n",
    "and t (each of length at most 1 kbp).\n",
    "\n",
    "Return: All locations of t\n",
    "as a substring of s.\n",
    "\n",
    "Sample Dataset\n",
    "\n",
    "GATATATGCATATACTT\n",
    "ATAT\n",
    "\n",
    "Sample Output\n",
    "\n",
    "2 4 10\n"
   ]
  },
  {
   "cell_type": "code",
   "execution_count": 1,
   "metadata": {},
   "outputs": [
    {
     "data": {
      "text/plain": [
       "'GATA'"
      ]
     },
     "execution_count": 1,
     "metadata": {},
     "output_type": "execute_result"
    }
   ],
   "source": [
    "seq = 'GATATATGCATATACTT'\n",
    "sub = 'ATAT'\n",
    "\n",
    "seq [0:4]"
   ]
  },
  {
   "cell_type": "code",
   "execution_count": 7,
   "metadata": {},
   "outputs": [
    {
     "name": "stdout",
     "output_type": "stream",
     "text": [
      "2\n",
      "4\n",
      "10\n"
     ]
    }
   ],
   "source": [
    "seq = 'GATATATGCATATACTT'\n",
    "sub = 'ATAT'\n",
    "x = 0\n",
    "y = int (len (sub))\n",
    "for i in seq:\n",
    "    if seq [x:y] == sub:\n",
    "        print (x + 1)\n",
    "    x = x + 1\n",
    "    y = y + 1\n",
    "\n"
   ]
  },
  {
   "cell_type": "code",
   "execution_count": 8,
   "metadata": {},
   "outputs": [
    {
     "name": "stdout",
     "output_type": "stream",
     "text": [
      "GATATATGCATATACTT\n",
      "\n",
      "ATAT\n",
      "\n",
      "2\n",
      "4\n",
      "10\n"
     ]
    }
   ],
   "source": [
    "f = open ('Inputs/Motifs_in_DNA.txt', 'r')\n",
    "seq = f.readlines()[0]\n",
    "f.close()\n",
    "f = open ('Inputs/Motifs_in_DNA.txt', 'r')\n",
    "motif = f.readlines()[1]\n",
    "f.close()\n",
    "\n",
    "print (seq)\n",
    "print (motif)\n",
    "\n",
    "x = 0\n",
    "y = int (len (motif)-1)\n",
    "\n",
    "for i in seq:\n",
    "    if seq [x:y] == 'ATAT':\n",
    "        print (x + 1)\n",
    "    x = x + 1\n",
    "    y = y + 1"
   ]
  },
  {
   "cell_type": "markdown",
   "metadata": {},
   "source": [
    "The issue encountered was the presence of the newline character on the enf of each line\n",
    "fixed by using f.readlines()[0].rstrip(\"\\n\") command"
   ]
  },
  {
   "cell_type": "code",
   "execution_count": 19,
   "metadata": {},
   "outputs": [
    {
     "name": "stdout",
     "output_type": "stream",
     "text": [
      "GATATATGCATATACTT\n",
      "ATAT\n",
      "2\n",
      "4\n",
      "10\n"
     ]
    }
   ],
   "source": [
    "f = open ('Inputs/Motifs_in_DNA.txt', 'r')\n",
    "seq = f.readlines()[0].rstrip(\"\\n\")\n",
    "f.close()\n",
    "f = open ('Inputs/Motifs_in_DNA.txt', 'r')\n",
    "motif = f.readlines()[1].rstrip(\"\\n\")\n",
    "f.close()\n",
    "\n",
    "print (seq)\n",
    "print (motif)\n",
    "\n",
    "x = 0\n",
    "y = int (len (motif))\n",
    "\n",
    "for i in seq:\n",
    "    if seq [x:y] == motif:\n",
    "        print (x + 1)\n",
    "    x = x + 1\n",
    "    y = y + 1\n",
    "    \n"
   ]
  },
  {
   "cell_type": "code",
   "execution_count": 5,
   "metadata": {},
   "outputs": [
    {
     "name": "stdout",
     "output_type": "stream",
     "text": [
      "5\n",
      "ATAT\n",
      "\n"
     ]
    },
    {
     "data": {
      "text/plain": [
       "str"
      ]
     },
     "execution_count": 5,
     "metadata": {},
     "output_type": "execute_result"
    }
   ],
   "source": [
    "f = open ('Inputs/Motifs_in_DNA.txt', 'r')\n",
    "motif = f.readlines()[1]\n",
    "f.close()\n",
    "\n",
    "print (int (len (motif)))\n",
    "type (motif)\n",
    "print (motif)\n",
    "type (motif)"
   ]
  },
  {
   "cell_type": "code",
   "execution_count": 11,
   "metadata": {},
   "outputs": [
    {
     "name": "stdout",
     "output_type": "stream",
     "text": [
      "GATATATGCATATACTT\n",
      "\n",
      "ATAT\n",
      "2\n",
      "4\n",
      "10\n",
      "18\n",
      "22\n"
     ]
    }
   ],
   "source": [
    "f = open ('Inputs/Motifs_in_DNA.txt', 'r')\n",
    "seq = f.readlines()[0]\n",
    "f.close()\n",
    "f = open ('Inputs/Motifs_in_DNA.txt', 'r')\n",
    "motif = f.readlines()[1]\n",
    "f.close()\n",
    "\n",
    "motif = 'ATAT'\n",
    "\n",
    "print (seq)\n",
    "print (motif)\n",
    "\n",
    "x = 0\n",
    "y = int (len (motif))\n",
    "\n",
    "for i in seq:\n",
    "    if seq [x:y] == motif:\n",
    "        print (x + 1)\n",
    "    x = x + 1\n",
    "    y = y + 1\n",
    "    \n",
    "print (x)\n",
    "print (y)\n"
   ]
  },
  {
   "cell_type": "code",
   "execution_count": 21,
   "metadata": {},
   "outputs": [
    {
     "name": "stdout",
     "output_type": "stream",
     "text": [
      "GATATATGCATATACTT\n",
      "ATAT\n",
      "2 4 10 \n"
     ]
    }
   ],
   "source": [
    "f = open ('Inputs/Motifs_in_DNA.txt', 'r')\n",
    "seq = f.readlines()[0].rstrip(\"\\n\")\n",
    "f.close()\n",
    "f = open ('Inputs/Motifs_in_DNA.txt', 'r')\n",
    "motif = f.readlines()[1].rstrip(\"\\n\")\n",
    "f.close()\n",
    "o = open ('Outputs/Motifs_in_DNA.txt', 'w')\n",
    "\n",
    "print (seq)\n",
    "print (motif)\n",
    "\n",
    "x = 0\n",
    "y = int (len (motif))\n",
    "\n",
    "for i in seq:\n",
    "    if seq [x:y] == motif:\n",
    "        o.write (str (x + 1) + ' ')\n",
    "    x = x + 1\n",
    "    y = y + 1\n",
    "o.close()\n",
    "\n",
    "final = open ('Outputs/Motifs_in_DNA.txt', 'r')\n",
    "print (final.read())\n",
    "final.close()\n",
    "\n",
    "    \n"
   ]
  },
  {
   "cell_type": "code",
   "execution_count": null,
   "metadata": {},
   "outputs": [],
   "source": []
  }
 ],
 "metadata": {
  "kernelspec": {
   "display_name": "Python 3",
   "language": "python",
   "name": "python3"
  },
  "language_info": {
   "codemirror_mode": {
    "name": "ipython",
    "version": 3
   },
   "file_extension": ".py",
   "mimetype": "text/x-python",
   "name": "python",
   "nbconvert_exporter": "python",
   "pygments_lexer": "ipython3",
   "version": "3.7.3"
  }
 },
 "nbformat": 4,
 "nbformat_minor": 2
}
