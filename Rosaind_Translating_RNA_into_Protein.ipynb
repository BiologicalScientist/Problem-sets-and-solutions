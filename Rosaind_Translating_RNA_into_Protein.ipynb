{
 "cells": [
  {
   "cell_type": "markdown",
   "metadata": {},
   "source": [
    "Problem\n",
    "\n",
    "The 20 commonly occurring amino acids are abbreviated by using 20 letters from the English alphabet (all letters except for B, J, O, U, X, and Z). Protein strings are constructed from these 20 symbols. Henceforth, the term genetic string will incorporate protein strings along with DNA strings and RNA strings.\n",
    "\n",
    "The RNA codon table dictates the details regarding the encoding of specific codons into the amino acid alphabet.\n",
    "\n",
    "Given: An RNA string s\n",
    "\n",
    "corresponding to a strand of mRNA (of length at most 10 kbp).\n",
    "\n",
    "Return: The protein string encoded by s.\n",
    "\n",
    "Sample Dataset\n",
    "\n",
    "AUGGCCAUGGCGCCCAGAACUGAGAUCAAUAGUACCCGUAUUAACGGGUGA\n",
    "\n",
    "Sample Output\n",
    "\n",
    "MAMAPRTEINSTRING\n"
   ]
  },
  {
   "cell_type": "markdown",
   "metadata": {},
   "source": [
    "UUU F      CUU L      AUU I      GUU V\n",
    "UUC F      CUC L      AUC I      GUC V\n",
    "UUA L      CUA L      AUA I      GUA V\n",
    "UUG L      CUG L      AUG M      GUG V\n",
    "UCU S      CCU P      ACU T      GCU A\n",
    "UCC S      CCC P      ACC T      GCC A\n",
    "UCA S      CCA P      ACA T      GCA A\n",
    "UCG S      CCG P      ACG T      GCG A\n",
    "UAU Y      CAU H      AAU N      GAU D\n",
    "UAC Y      CAC H      AAC N      GAC D\n",
    "UAA Stop   CAA Q      AAA K      GAA E\n",
    "UAG Stop   CAG Q      AAG K      GAG E\n",
    "UGU C      CGU R      AGU S      GGU G\n",
    "UGC C      CGC R      AGC S      GGC G\n",
    "UGA Stop   CGA R      AGA R      GGA G\n",
    "UGG W      CGG R      AGG R      GGG G "
   ]
  },
  {
   "cell_type": "code",
   "execution_count": 11,
   "metadata": {},
   "outputs": [
    {
     "name": "stdout",
     "output_type": "stream",
     "text": [
      "AUG\n",
      "GCC\n",
      "AUG\n",
      "GCG\n",
      "CCC\n",
      "AGA\n",
      "ACU\n",
      "GAG\n",
      "AUC\n",
      "AAU\n",
      "AGU\n",
      "ACC\n",
      "CGU\n",
      "AUU\n",
      "AAC\n",
      "GGG\n",
      "UGA\n",
      "\n",
      "\n",
      "\n",
      "\n",
      "\n",
      "\n",
      "\n",
      "\n",
      "\n",
      "\n",
      "\n",
      "\n",
      "\n",
      "\n",
      "\n",
      "\n",
      "\n",
      "\n",
      "\n",
      "\n",
      "\n",
      "\n",
      "\n",
      "\n",
      "\n",
      "\n",
      "\n",
      "\n",
      "\n",
      "\n",
      "\n",
      "\n",
      "\n",
      "\n"
     ]
    }
   ],
   "source": [
    "seq = 'AUGGCCAUGGCGCCCAGAACUGAGAUCAAUAGUACCCGUAUUAACGGGUGA'\n",
    "#need to separate triplets into list\n",
    "#['AUG', 'GCC', etc]\n",
    "x = 0\n",
    "y = 3\n",
    "for i in seq:\n",
    "    print (seq [x:y])\n",
    "    x = x + 3\n",
    "    y = y + 3"
   ]
  },
  {
   "cell_type": "code",
   "execution_count": 16,
   "metadata": {},
   "outputs": [],
   "source": [
    "seq = 'AUGGCCAUGGCGCCCAGAACUGAGAUCAAUAGUACCCGUAUUAACGGGUGA'\n",
    "o = open ('Outputs/split_RNA_trips_test.txt', 'w')\n",
    "#need to separate triplets into list\n",
    "#['AUG', 'GCC', etc]\n",
    "x = 0\n",
    "y = 3\n",
    "for i in seq:\n",
    "    o.write(seq [x:y] + ',')\n",
    "    x = x + 3\n",
    "    y = y + 3\n",
    "o.close()"
   ]
  },
  {
   "cell_type": "code",
   "execution_count": 17,
   "metadata": {},
   "outputs": [
    {
     "data": {
      "text/plain": [
       "'AUG,GCC,AUG,GCG,CCC,AGA,ACU,GAG,AUC,AAU,AGU,ACC,CGU,AUU,AAC,GGG,UGA,,,,,,,,,,,,,,,,,,,,,,,,,,,,,,,,,,,'"
      ]
     },
     "execution_count": 17,
     "metadata": {},
     "output_type": "execute_result"
    }
   ],
   "source": [
    "f = open ('Outputs/split_RNA_trips_test.txt', 'r')\n",
    "f.read()"
   ]
  },
  {
   "cell_type": "code",
   "execution_count": 37,
   "metadata": {},
   "outputs": [
    {
     "name": "stdout",
     "output_type": "stream",
     "text": [
      "['AUG', 'GCC', 'AUG', 'GCG', 'CCC', 'AGA', 'ACU', 'GAG', 'AUC', 'AAU', 'AGU', 'ACC', 'CGU', 'AUU', 'AAC', 'GGG', 'UGA']\n"
     ]
    },
    {
     "data": {
      "text/plain": [
       "51"
      ]
     },
     "execution_count": 37,
     "metadata": {},
     "output_type": "execute_result"
    }
   ],
   "source": [
    "seq = 'AUGGCCAUGGCGCCCAGAACUGAGAUCAAUAGUACCCGUAUUAACGGGUGA'\n",
    "#need to separate triplets into list\n",
    "#['AUG', 'GCC', etc]\n",
    "z = int (len (seq) / 3)\n",
    "x = 0\n",
    "y = 3\n",
    "trip = []\n",
    "for i in range (0,z):\n",
    "    l = (seq [x:y])\n",
    "    trip.append(l)\n",
    "    x = x + 3\n",
    "    y = y + 3\n",
    "print (trip)\n",
    "len (seq)"
   ]
  },
  {
   "cell_type": "code",
   "execution_count": 20,
   "metadata": {},
   "outputs": [
    {
     "data": {
      "text/plain": [
       "''"
      ]
     },
     "execution_count": 20,
     "metadata": {},
     "output_type": "execute_result"
    }
   ],
   "source": [
    "f = open ('Outputs/split_RNA_trips_test.txt', 'r')\n",
    "f.read()"
   ]
  },
  {
   "cell_type": "code",
   "execution_count": 38,
   "metadata": {},
   "outputs": [
    {
     "name": "stdout",
     "output_type": "stream",
     "text": [
      "['AUG', 'GCC', 'AUG', 'GCG', 'CCC', 'AGA', 'ACU', 'GAG', 'AUC', 'AAU', 'AGU', 'ACC', 'CGU', 'AUU', 'AAC', 'GGG', 'UGA']\n"
     ]
    },
    {
     "data": {
      "text/plain": [
       "52"
      ]
     },
     "execution_count": 38,
     "metadata": {},
     "output_type": "execute_result"
    }
   ],
   "source": [
    "f = open ('Inputs/split_RNA_trips_test.txt', 'r')\n",
    "seq = f.read()\n",
    "#need to separate triplets into list\n",
    "#['AUG', 'GCC', etc]\n",
    "z = int (len (seq) / 3)\n",
    "x = 0\n",
    "y = 3\n",
    "trip = []\n",
    "for i in range (0,z):\n",
    "    l = (seq [x:y])\n",
    "    trip.append(l)\n",
    "    x = x + 3\n",
    "    y = y + 3\n",
    "print (trip)\n",
    "len (seq)"
   ]
  },
  {
   "cell_type": "code",
   "execution_count": 42,
   "metadata": {},
   "outputs": [
    {
     "name": "stdout",
     "output_type": "stream",
     "text": [
      "I\n"
     ]
    }
   ],
   "source": [
    "codon_table_DNA = {\n",
    "    'ATA':'I', 'ATC':'I', 'ATT':'I', 'ATG':'M',\n",
    "    'ACA':'T', 'ACC':'T', 'ACG':'T', 'ACT':'T',\n",
    "    'AAC':'N', 'AAT':'N', 'AAA':'K', 'AAG':'K',\n",
    "    'AGC':'S', 'AGT':'S', 'AGA':'R', 'AGG':'R',\n",
    "    'CTA':'L', 'CTC':'L', 'CTG':'L', 'CTT':'L',\n",
    "    'CCA':'P', 'CCC':'P', 'CCG':'P', 'CCT':'P',\n",
    "    'CAC':'H', 'CAT':'H', 'CAA':'Q', 'CAG':'Q',\n",
    "    'CGA':'R', 'CGC':'R', 'CGG':'R', 'CGT':'R',\n",
    "    'GTA':'V', 'GTC':'V', 'GTG':'V', 'GTT':'V',\n",
    "    'GCA':'A', 'GCC':'A', 'GCG':'A', 'GCT':'A',\n",
    "    'GAC':'D', 'GAT':'D', 'GAA':'E', 'GAG':'E',\n",
    "    'GGA':'G', 'GGC':'G', 'GGG':'G', 'GGT':'G',\n",
    "    'TCA':'S', 'TCC':'S', 'TCG':'S', 'TCT':'S',\n",
    "    'TTC':'F', 'TTT':'F', 'TTA':'L', 'TTG':'L',\n",
    "    'TAC':'Y', 'TAT':'Y', 'TAA':'_', 'TAG':'_',\n",
    "    'TGC':'C', 'TGT':'C', 'TGA':'_', 'TGG':'W',}\n",
    "codon_table_RNA = {\n",
    "    'AUA':'I', 'AUC':'I', 'AUU':'I', 'AUG':'M',\n",
    "    'ACA':'T', 'ACC':'T', 'ACG':'T', 'ACU':'T',\n",
    "    'AAC':'N', 'AAU':'N', 'AAA':'K', 'AAG':'K',\n",
    "    'AGC':'S', 'AGU':'S', 'AGA':'R', 'AGG':'R',\n",
    "    'CUA':'L', 'CUC':'L', 'CUG':'L', 'CUU':'L',\n",
    "    'CCA':'P', 'CCC':'P', 'CCG':'P', 'CCU':'P',\n",
    "    'CAC':'H', 'CAU':'H', 'CAA':'Q', 'CAG':'Q',\n",
    "    'CGA':'R', 'CGC':'R', 'CGG':'R', 'CGU':'R',\n",
    "    'GUA':'V', 'GUC':'V', 'GUG':'V', 'GUU':'V',\n",
    "    'GCA':'A', 'GCC':'A', 'GCG':'A', 'GCU':'A',\n",
    "    'GAC':'D', 'GAU':'D', 'GAA':'E', 'GAG':'E',\n",
    "    'GGA':'G', 'GGC':'G', 'GGG':'G', 'GGU':'G',\n",
    "    'UCA':'S', 'UCC':'S', 'UCG':'S', 'UCU':'S',\n",
    "    'UUC':'F', 'UUU':'F', 'UUA':'L', 'UUG':'L',\n",
    "    'UAC':'Y', 'UAU':'Y', 'UAA':'_', 'UAG':'_',\n",
    "    'UGC':'C', 'UGU':'C', 'UGA':'_', 'UGG':'W',}\n",
    "\n",
    "print (codon_table_RNA['AUA'])"
   ]
  },
  {
   "cell_type": "code",
   "execution_count": 44,
   "metadata": {},
   "outputs": [
    {
     "name": "stdout",
     "output_type": "stream",
     "text": [
      "M\n",
      "A\n",
      "M\n",
      "A\n",
      "P\n",
      "R\n",
      "T\n",
      "E\n",
      "I\n",
      "N\n",
      "S\n",
      "T\n",
      "R\n",
      "I\n",
      "N\n",
      "G\n",
      "_\n"
     ]
    }
   ],
   "source": [
    "for i in trip:\n",
    "    print (codon_table_RNA[i])\n",
    "    "
   ]
  },
  {
   "cell_type": "code",
   "execution_count": 45,
   "metadata": {},
   "outputs": [
    {
     "name": "stdout",
     "output_type": "stream",
     "text": [
      "['AUG', 'GCC', 'AUG', 'GCG', 'CCC', 'AGA', 'ACU', 'GAG', 'AUC', 'AAU', 'AGU', 'ACC', 'CGU', 'AUU', 'AAC', 'GGG', 'UGA']\n"
     ]
    },
    {
     "data": {
      "text/plain": [
       "'MAMAPRTEINSTRING_'"
      ]
     },
     "execution_count": 45,
     "metadata": {},
     "output_type": "execute_result"
    }
   ],
   "source": [
    "codon_table_RNA = {\n",
    "    'AUA':'I', 'AUC':'I', 'AUU':'I', 'AUG':'M',\n",
    "    'ACA':'T', 'ACC':'T', 'ACG':'T', 'ACU':'T',\n",
    "    'AAC':'N', 'AAU':'N', 'AAA':'K', 'AAG':'K',\n",
    "    'AGC':'S', 'AGU':'S', 'AGA':'R', 'AGG':'R',\n",
    "    'CUA':'L', 'CUC':'L', 'CUG':'L', 'CUU':'L',\n",
    "    'CCA':'P', 'CCC':'P', 'CCG':'P', 'CCU':'P',\n",
    "    'CAC':'H', 'CAU':'H', 'CAA':'Q', 'CAG':'Q',\n",
    "    'CGA':'R', 'CGC':'R', 'CGG':'R', 'CGU':'R',\n",
    "    'GUA':'V', 'GUC':'V', 'GUG':'V', 'GUU':'V',\n",
    "    'GCA':'A', 'GCC':'A', 'GCG':'A', 'GCU':'A',\n",
    "    'GAC':'D', 'GAU':'D', 'GAA':'E', 'GAG':'E',\n",
    "    'GGA':'G', 'GGC':'G', 'GGG':'G', 'GGU':'G',\n",
    "    'UCA':'S', 'UCC':'S', 'UCG':'S', 'UCU':'S',\n",
    "    'UUC':'F', 'UUU':'F', 'UUA':'L', 'UUG':'L',\n",
    "    'UAC':'Y', 'UAU':'Y', 'UAA':'_', 'UAG':'_',\n",
    "    'UGC':'C', 'UGU':'C', 'UGA':'_', 'UGG':'W',}\n",
    "f = open ('Inputs/split_RNA_trips_test.txt', 'r')\n",
    "seq = f.read()\n",
    "#need to separate triplets into list\n",
    "#['AUG', 'GCC', etc]\n",
    "z = int (len (seq) / 3)\n",
    "x = 0\n",
    "y = 3\n",
    "trip = []\n",
    "for i in range (0,z):\n",
    "    l = (seq [x:y])\n",
    "    trip.append(l)\n",
    "    x = x + 3\n",
    "    y = y + 3\n",
    "print (trip)\n",
    "len (seq)\n",
    "o = open ('Outputs/Translated_RNA.txt', 'w')\n",
    "for i in trip:\n",
    "    o.write(codon_table_RNA[i])\n",
    "o.close()\n",
    "final = open('Outputs/Translated_RNA.txt', 'r')\n",
    "final.read()"
   ]
  },
  {
   "cell_type": "code",
   "execution_count": null,
   "metadata": {},
   "outputs": [],
   "source": []
  }
 ],
 "metadata": {
  "kernelspec": {
   "display_name": "Python 3",
   "language": "python",
   "name": "python3"
  },
  "language_info": {
   "codemirror_mode": {
    "name": "ipython",
    "version": 3
   },
   "file_extension": ".py",
   "mimetype": "text/x-python",
   "name": "python",
   "nbconvert_exporter": "python",
   "pygments_lexer": "ipython3",
   "version": "3.7.3"
  }
 },
 "nbformat": 4,
 "nbformat_minor": 2
}
