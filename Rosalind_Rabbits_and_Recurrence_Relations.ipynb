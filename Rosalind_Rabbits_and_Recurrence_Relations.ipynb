{
 "cells": [
  {
   "cell_type": "markdown",
   "metadata": {},
   "source": [
    "Given: Positive integers n≤40 and k≤5.\n",
    "\n",
    "Return: The total number of rabbit pairs that will be present after n\n",
    "months, if we begin with 1 pair and in each generation, every pair of reproduction-age rabbits produces a litter of k rabbit pairs (instead of only 1 pair).\n",
    "\n",
    "\n",
    "Sample Dataset\n",
    "\n",
    "5 3\n",
    "\n",
    "Sample Output\n",
    "\n",
    "19\n",
    "\n"
   ]
  },
  {
   "cell_type": "markdown",
   "metadata": {},
   "source": [
    "1 pair produce 3 newborns\n",
    "1 pair produces 3 newborns and 3 monthers (which mate)\n",
    "1 pair produces 3 newborns, 3 monthers\n",
    "#parameters\n",
    "n = 5\n",
    "k = 3\n",
    "#initial state\n",
    "pair = 1\n",
    "newborns = 0\n",
    "\n",
    "for i in range (0, n-1):\n",
    "#after 1 month\n",
    "pair = pair + newborns\n",
    "newborns = pair * k\n"
   ]
  },
  {
   "cell_type": "code",
   "execution_count": 12,
   "metadata": {},
   "outputs": [
    {
     "name": "stdout",
     "output_type": "stream",
     "text": [
      "0\n",
      "1\n",
      "0\n",
      "1\n",
      "1\n",
      "3\n",
      "1\n",
      "4\n",
      "3\n",
      "4\n",
      "7\n",
      "12\n",
      "total number of rabbits after 5 months is 19\n"
     ]
    }
   ],
   "source": [
    "#parameters\n",
    "n = 5\n",
    "k = 3\n",
    "#initial state\n",
    "pair = 0\n",
    "newborns = 1\n",
    "pregnant = 0\n",
    "\n",
    "for i in range (0, n-1):\n",
    "    #number of pregnant rabbits = number of breeding pairs from previous month (needs to come first)\n",
    "    preg = pair\n",
    "    print (preg)\n",
    "    #number of pairs = the number of pairs + the number of newborns from previous month\n",
    "    pair = pair + newborns\n",
    "    print (pair)\n",
    "    #number of newborns = number of pregnant rabbits (this month) giving birth\n",
    "    newborns = preg * k\n",
    "    print (newborns)\n",
    "total = pair + newborns\n",
    "print ('total number of rabbits after {} months is {}'.format(n, total))"
   ]
  },
  {
   "cell_type": "code",
   "execution_count": null,
   "metadata": {},
   "outputs": [],
   "source": [
    "#parameters\n",
    "n = int(input ('n: '))\n",
    "k = int(input ('k: '))\n",
    "#initial state\n",
    "pair = 0\n",
    "newborns = 1\n",
    "pregnant = 0\n",
    "\n",
    "for i in range (0, n-1):\n",
    "    #number of pregnant rabbits = number of breeding pairs from previous month (needs to come first)\n",
    "    preg = pair\n",
    "    print (preg)\n",
    "    #number of pairs = the number of pairs + the number of newborns from previous month\n",
    "    pair = pair + newborns\n",
    "    print (pair)\n",
    "    #number of newborns = number of pregnant rabbits (this month) giving birth\n",
    "    newborns = preg * k\n",
    "    print (newborns)\n",
    "total = pair + newborns\n",
    "print ('total number of rabbits after {} months is {}'.format(n, total))"
   ]
  }
 ],
 "metadata": {
  "kernelspec": {
   "display_name": "Python 3",
   "language": "python",
   "name": "python3"
  },
  "language_info": {
   "codemirror_mode": {
    "name": "ipython",
    "version": 3
   },
   "file_extension": ".py",
   "mimetype": "text/x-python",
   "name": "python",
   "nbconvert_exporter": "python",
   "pygments_lexer": "ipython3",
   "version": "3.7.3"
  }
 },
 "nbformat": 4,
 "nbformat_minor": 2
}
