{
 "cells": [
  {
   "cell_type": "code",
   "execution_count": 1,
   "metadata": {},
   "outputs": [
    {
     "name": "stdout",
     "output_type": "stream",
     "text": [
      "/home/andrew/Jupyter-Notebooks\r\n"
     ]
    }
   ],
   "source": [
    "!pwd"
   ]
  },
  {
   "cell_type": "markdown",
   "metadata": {},
   "source": [
    "initially need to open the file and save it as a file object\n",
    "The first set of code prints the file text as a string\n",
    "the second set prints it as a list split by the \\n newline delimiter"
   ]
  },
  {
   "cell_type": "code",
   "execution_count": 7,
   "metadata": {},
   "outputs": [
    {
     "name": "stdout",
     "output_type": "stream",
     "text": [
      "Bravely bold Sir Robin rode forth from Camelot\n",
      "Yes, brave Sir Robin turned about\n",
      "He was not afraid to die, O brave Sir Robin\n",
      "And gallantly he chickened out\n",
      "He was not at all afraid to be killed in nasty ways\n",
      "Bravely talking to his feet\n",
      "Brave, brave, brave, brave Sir Robin\n",
      "He beat a very brave retreat\n",
      "\n"
     ]
    }
   ],
   "source": [
    "f = open('Inputs/input_5.txt', 'r')\n",
    "print (f.read())"
   ]
  },
  {
   "cell_type": "code",
   "execution_count": 8,
   "metadata": {},
   "outputs": [
    {
     "name": "stdout",
     "output_type": "stream",
     "text": [
      "['Bravely bold Sir Robin rode forth from Camelot\\n', 'Yes, brave Sir Robin turned about\\n', 'He was not afraid to die, O brave Sir Robin\\n', 'And gallantly he chickened out\\n', 'He was not at all afraid to be killed in nasty ways\\n', 'Bravely talking to his feet\\n', 'Brave, brave, brave, brave Sir Robin\\n', 'He beat a very brave retreat\\n']\n"
     ]
    }
   ],
   "source": [
    "f = open('Inputs/input_5.txt', 'r')\n",
    "print (f.readlines())"
   ]
  },
  {
   "cell_type": "markdown",
   "metadata": {},
   "source": [
    "we want to only print the even numbered lines. to do this we will iterate through the lines and take only those where they are even i.e. i % 2 == 0"
   ]
  },
  {
   "cell_type": "code",
   "execution_count": 9,
   "metadata": {},
   "outputs": [
    {
     "ename": "TypeError",
     "evalue": "not all arguments converted during string formatting",
     "output_type": "error",
     "traceback": [
      "\u001b[0;31m---------------------------------------------------------------------------\u001b[0m",
      "\u001b[0;31mTypeError\u001b[0m                                 Traceback (most recent call last)",
      "\u001b[0;32m<ipython-input-9-31a9802224b0>\u001b[0m in \u001b[0;36m<module>\u001b[0;34m\u001b[0m\n\u001b[1;32m      1\u001b[0m \u001b[0mf\u001b[0m \u001b[0;34m=\u001b[0m \u001b[0mopen\u001b[0m\u001b[0;34m(\u001b[0m\u001b[0;34m'Inputs/input_5.txt'\u001b[0m\u001b[0;34m,\u001b[0m \u001b[0;34m'r'\u001b[0m\u001b[0;34m)\u001b[0m\u001b[0;34m\u001b[0m\u001b[0;34m\u001b[0m\u001b[0m\n\u001b[1;32m      2\u001b[0m \u001b[0;32mfor\u001b[0m \u001b[0mi\u001b[0m \u001b[0;32min\u001b[0m \u001b[0mf\u001b[0m\u001b[0;34m.\u001b[0m\u001b[0mreadlines\u001b[0m\u001b[0;34m(\u001b[0m\u001b[0;34m)\u001b[0m\u001b[0;34m:\u001b[0m\u001b[0;34m\u001b[0m\u001b[0;34m\u001b[0m\u001b[0m\n\u001b[0;32m----> 3\u001b[0;31m     \u001b[0;32mif\u001b[0m \u001b[0mi\u001b[0m \u001b[0;34m%\u001b[0m \u001b[0;36m2\u001b[0m \u001b[0;34m==\u001b[0m \u001b[0;36m0\u001b[0m\u001b[0;34m:\u001b[0m\u001b[0;34m\u001b[0m\u001b[0;34m\u001b[0m\u001b[0m\n\u001b[0m\u001b[1;32m      4\u001b[0m         \u001b[0mprint\u001b[0m \u001b[0;34m(\u001b[0m\u001b[0mi\u001b[0m\u001b[0;34m)\u001b[0m\u001b[0;34m\u001b[0m\u001b[0;34m\u001b[0m\u001b[0m\n",
      "\u001b[0;31mTypeError\u001b[0m: not all arguments converted during string formatting"
     ]
    }
   ],
   "source": [
    "f = open('Inputs/input_5.txt', 'r')\n",
    "for i in f.readlines():\n",
    "    if i % 2 == 0:\n",
    "        print (i)        "
   ]
  },
  {
   "cell_type": "code",
   "execution_count": 17,
   "metadata": {},
   "outputs": [
    {
     "name": "stdout",
     "output_type": "stream",
     "text": [
      "Bravely bold Sir Robin rode forth from Camelot\n",
      "\n",
      "Yes, brave Sir Robin turned about\n",
      "\n",
      "He was not afraid to die, O brave Sir Robin\n",
      "\n",
      "And gallantly he chickened out\n",
      "\n",
      "He was not at all afraid to be killed in nasty ways\n",
      "\n",
      "Bravely talking to his feet\n",
      "\n",
      "Brave, brave, brave, brave Sir Robin\n",
      "\n",
      "He beat a very brave retreat\n",
      "\n"
     ]
    }
   ],
   "source": [
    "f = open('Inputs/input_5.txt', 'r')\n",
    "i = 0\n",
    "for line in f.readlines():\n",
    "    if i % 2 == 0:\n",
    "        print (line)\n",
    "    elif i % 2 != 0:\n",
    "        i = i + 1"
   ]
  },
  {
   "cell_type": "code",
   "execution_count": 25,
   "metadata": {},
   "outputs": [
    {
     "name": "stdout",
     "output_type": "stream",
     "text": [
      "Bravely bold Sir Robin rode forth from Camelot\n",
      "\n"
     ]
    }
   ],
   "source": [
    "f = open('Inputs/input_5.txt', 'r')\n",
    "i = 0\n",
    "if i % 2 == 0:\n",
    "    print (f.readlines()[i])\n",
    "    i = i + 1\n",
    "elif i % 2 != 0:\n",
    "    i = i + 1"
   ]
  },
  {
   "cell_type": "code",
   "execution_count": 26,
   "metadata": {},
   "outputs": [
    {
     "name": "stdout",
     "output_type": "stream",
     "text": [
      "Bravely bold Sir Robin rode forth from Camelot\n",
      "\n"
     ]
    },
    {
     "ename": "IndexError",
     "evalue": "list index out of range",
     "output_type": "error",
     "traceback": [
      "\u001b[0;31m---------------------------------------------------------------------------\u001b[0m",
      "\u001b[0;31mIndexError\u001b[0m                                Traceback (most recent call last)",
      "\u001b[0;32m<ipython-input-26-0821f49323e1>\u001b[0m in \u001b[0;36m<module>\u001b[0;34m\u001b[0m\n\u001b[1;32m      3\u001b[0m \u001b[0;32mfor\u001b[0m \u001b[0mi\u001b[0m \u001b[0;32min\u001b[0m \u001b[0;34m(\u001b[0m\u001b[0;36m0\u001b[0m\u001b[0;34m,\u001b[0m \u001b[0;36m1000\u001b[0m\u001b[0;34m)\u001b[0m\u001b[0;34m:\u001b[0m\u001b[0;34m\u001b[0m\u001b[0;34m\u001b[0m\u001b[0m\n\u001b[1;32m      4\u001b[0m     \u001b[0;32mif\u001b[0m \u001b[0mi\u001b[0m \u001b[0;34m%\u001b[0m \u001b[0;36m2\u001b[0m \u001b[0;34m==\u001b[0m \u001b[0;36m0\u001b[0m\u001b[0;34m:\u001b[0m\u001b[0;34m\u001b[0m\u001b[0;34m\u001b[0m\u001b[0m\n\u001b[0;32m----> 5\u001b[0;31m         \u001b[0mprint\u001b[0m \u001b[0;34m(\u001b[0m\u001b[0mf\u001b[0m\u001b[0;34m.\u001b[0m\u001b[0mreadlines\u001b[0m\u001b[0;34m(\u001b[0m\u001b[0;34m)\u001b[0m\u001b[0;34m[\u001b[0m\u001b[0mi\u001b[0m\u001b[0;34m]\u001b[0m\u001b[0;34m)\u001b[0m\u001b[0;34m\u001b[0m\u001b[0;34m\u001b[0m\u001b[0m\n\u001b[0m",
      "\u001b[0;31mIndexError\u001b[0m: list index out of range"
     ]
    }
   ],
   "source": [
    "f = open('Inputs/input_5.txt', 'r')\n",
    "i = 0\n",
    "for i in (0, 1000):\n",
    "    if i % 2 == 0:\n",
    "        print (f.readlines()[i])\n"
   ]
  },
  {
   "cell_type": "code",
   "execution_count": 28,
   "metadata": {},
   "outputs": [
    {
     "ename": "IndexError",
     "evalue": "list index out of range",
     "output_type": "error",
     "traceback": [
      "\u001b[0;31m---------------------------------------------------------------------------\u001b[0m",
      "\u001b[0;31mIndexError\u001b[0m                                Traceback (most recent call last)",
      "\u001b[0;32m<ipython-input-28-4e49875d29b2>\u001b[0m in \u001b[0;36m<module>\u001b[0;34m\u001b[0m\n\u001b[1;32m      3\u001b[0m \u001b[0;32mfor\u001b[0m \u001b[0mline\u001b[0m \u001b[0;32min\u001b[0m \u001b[0mf\u001b[0m\u001b[0;34m.\u001b[0m\u001b[0mreadlines\u001b[0m\u001b[0;34m(\u001b[0m\u001b[0;34m)\u001b[0m\u001b[0;34m:\u001b[0m\u001b[0;34m\u001b[0m\u001b[0;34m\u001b[0m\u001b[0m\n\u001b[1;32m      4\u001b[0m     \u001b[0;32mif\u001b[0m \u001b[0mi\u001b[0m \u001b[0;34m%\u001b[0m \u001b[0;36m2\u001b[0m \u001b[0;34m==\u001b[0m \u001b[0;36m0\u001b[0m\u001b[0;34m:\u001b[0m\u001b[0;34m\u001b[0m\u001b[0;34m\u001b[0m\u001b[0m\n\u001b[0;32m----> 5\u001b[0;31m         \u001b[0mprint\u001b[0m \u001b[0;34m(\u001b[0m\u001b[0mf\u001b[0m\u001b[0;34m.\u001b[0m\u001b[0mreadlines\u001b[0m\u001b[0;34m(\u001b[0m\u001b[0;34m)\u001b[0m\u001b[0;34m[\u001b[0m\u001b[0mi\u001b[0m\u001b[0;34m]\u001b[0m\u001b[0;34m)\u001b[0m\u001b[0;34m\u001b[0m\u001b[0;34m\u001b[0m\u001b[0m\n\u001b[0m\u001b[1;32m      6\u001b[0m     \u001b[0;32melif\u001b[0m \u001b[0mi\u001b[0m \u001b[0;34m%\u001b[0m \u001b[0;36m2\u001b[0m \u001b[0;34m!=\u001b[0m \u001b[0;36m0\u001b[0m\u001b[0;34m:\u001b[0m\u001b[0;34m\u001b[0m\u001b[0;34m\u001b[0m\u001b[0m\n\u001b[1;32m      7\u001b[0m         \u001b[0mi\u001b[0m \u001b[0;34m=\u001b[0m \u001b[0mi\u001b[0m \u001b[0;34m+\u001b[0m \u001b[0;36m1\u001b[0m\u001b[0;34m\u001b[0m\u001b[0;34m\u001b[0m\u001b[0m\n",
      "\u001b[0;31mIndexError\u001b[0m: list index out of range"
     ]
    }
   ],
   "source": [
    "f = open('Inputs/input_5.txt', 'r')\n",
    "i = 0\n",
    "for line in f.readlines():\n",
    "    if i % 2 == 0:\n",
    "        print (f.readlines()[i])\n",
    "    elif i % 2 != 0:\n",
    "        i = i + 1"
   ]
  },
  {
   "cell_type": "code",
   "execution_count": 35,
   "metadata": {},
   "outputs": [],
   "source": [
    "f = open('Inputs/input_5.txt', 'r')\n",
    "output = open(\"Outputs/output_5.txt\", \"w\")\n",
    "i = 0\n",
    "for line in f.readlines():\n",
    "    if i % 2 == 0:\n",
    "        output.write(line)\n",
    "    i = i + 1"
   ]
  },
  {
   "cell_type": "code",
   "execution_count": 31,
   "metadata": {},
   "outputs": [
    {
     "name": "stdout",
     "output_type": "stream",
     "text": [
      "Bravely bold Sir Robin rode forth from Camelot\n",
      "Yes, brave Sir Robin turned about\n",
      "He was not afraid to die, O brave Sir Robin\n",
      "And gallantly he chickened out\n",
      "He was not at all afraid to be killed in nasty ways\n",
      "Bravely talking to his feet\n",
      "Brave, brave, brave, brave Sir Robin\n",
      "He beat a very brave retreat\n",
      "\n"
     ]
    }
   ],
   "source": [
    "output = open(\"Outputs/output_5.txt\", \"r\")\n",
    "print (output.read())"
   ]
  },
  {
   "cell_type": "code",
   "execution_count": 40,
   "metadata": {},
   "outputs": [],
   "source": [
    "f = open('Inputs/input_5.txt', 'r')\n",
    "output = open(\"Outputs/output_5.txt\", \"w\")\n",
    "i = 1\n",
    "\n",
    "for line in f.readlines():\n",
    "\tif i % 2 == 0:\n",
    "\t\toutput.write(line)\n",
    "\ti = i + 1"
   ]
  },
  {
   "cell_type": "code",
   "execution_count": 41,
   "metadata": {},
   "outputs": [
    {
     "name": "stdout",
     "output_type": "stream",
     "text": [
      "Yes, brave Sir Robin turned about\n",
      "And gallantly he chickened out\n",
      "Bravely talking to his feet\n",
      "He beat a very brave retreat\n",
      "\n"
     ]
    }
   ],
   "source": [
    "output = open(\"Outputs/output_5.txt\", \"r\")\n",
    "print (output.read())"
   ]
  },
  {
   "cell_type": "code",
   "execution_count": 42,
   "metadata": {},
   "outputs": [],
   "source": [
    "f = open('Inputs/input_5.txt', 'r')\n",
    "output = open(\"Outputs/output_5.txt\", \"w\")\n",
    "i = 0\n",
    "\n",
    "for line in f.readlines():\n",
    "\tif i % 2 == 0:\n",
    "\t\toutput.write(line)\n",
    "\ti = i + 1"
   ]
  },
  {
   "cell_type": "code",
   "execution_count": 43,
   "metadata": {},
   "outputs": [
    {
     "name": "stdout",
     "output_type": "stream",
     "text": [
      "Bravely bold Sir Robin rode forth from Camelot\n",
      "He was not afraid to die, O brave Sir Robin\n",
      "He was not at all afraid to be killed in nasty ways\n",
      "Brave, brave, brave, brave Sir Robin\n",
      "\n"
     ]
    }
   ],
   "source": [
    "output = open(\"Outputs/output_5.txt\", \"r\")\n",
    "print (output.read())"
   ]
  },
  {
   "cell_type": "code",
   "execution_count": 48,
   "metadata": {},
   "outputs": [],
   "source": [
    "f = open('Inputs/input_5.txt', 'r')\n",
    "output = open(\"Outputs/output_5.txt\", \"w\")\n",
    "#still don't quite understand how starting at a different integer changes things\n",
    "i = 1\n",
    "#for all the lines x in the list f.readlines() i.e. [0,1,2,3,4.....]\n",
    "for x in f.readlines():\n",
    "    #starting from i as the value set if the value i is EVEN output the line x to the file\n",
    "    #NOTE this does not mean the position in the line is EVEN which is what I initially thought\n",
    "\tif i % 2 == 0:\n",
    "\t\toutput.write(x)\n",
    "    #to continue the iteration always increase the integer by 1\n",
    "\ti = i + 1"
   ]
  },
  {
   "cell_type": "code",
   "execution_count": 49,
   "metadata": {},
   "outputs": [
    {
     "name": "stdout",
     "output_type": "stream",
     "text": [
      "Yes, brave Sir Robin turned about\n",
      "And gallantly he chickened out\n",
      "Bravely talking to his feet\n",
      "He beat a very brave retreat\n",
      "\n"
     ]
    }
   ],
   "source": [
    "output = open(\"Outputs/output_5.txt\", \"r\")\n",
    "print (output.read())"
   ]
  },
  {
   "cell_type": "code",
   "execution_count": null,
   "metadata": {},
   "outputs": [],
   "source": []
  }
 ],
 "metadata": {
  "kernelspec": {
   "display_name": "Python 3",
   "language": "python",
   "name": "python3"
  },
  "language_info": {
   "codemirror_mode": {
    "name": "ipython",
    "version": 3
   },
   "file_extension": ".py",
   "mimetype": "text/x-python",
   "name": "python",
   "nbconvert_exporter": "python",
   "pygments_lexer": "ipython3",
   "version": "3.7.3"
  }
 },
 "nbformat": 4,
 "nbformat_minor": 2
}
