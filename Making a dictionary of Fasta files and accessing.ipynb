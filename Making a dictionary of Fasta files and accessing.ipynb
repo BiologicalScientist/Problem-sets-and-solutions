{
 "cells": [
  {
   "cell_type": "markdown",
   "metadata": {},
   "source": [
    "# Making a dictionary of Fasta files and accessing\n"
   ]
  },
  {
   "cell_type": "code",
   "execution_count": null,
   "metadata": {},
   "outputs": [],
   "source": [
    "\"\"\"\n",
    "The aim of this code is to access and iterate through a Fasta file of format \n",
    ">name_of_sequence1\n",
    "ATCATGCTATGTT\"\n",
    ">name_of_sequence2\n",
    "ATCATTGTATGT\n",
    "ATCTTGATGTAGTC\n",
    ">etc\n",
    "\n",
    "to do this we need to be able to \n",
    "\n",
    "1. iterate through the lines of the file (using read/ readlines/ for i in file object)\n",
    "2. recognise the presence of a header line (will have position 0 as >) i.e. line[0] == >\n",
    "        if line[0] == '>':\n",
    "            seq_name = line\n",
    "3. store that header line as a variable (eventually as a key in dictionary (key:value pair i.e. name:seq))\n",
    "        elif line[0] != '>':\n",
    "            sequence = line\n",
    "4. add any subsequent lines that are not headers to the sequence variable and add to value in dictionary\n",
    "        FASTA_DICT[seq_name] = sequence \n",
    "        FASTA_DICT[seq_name] = FASTA_DICT[seq_name] + sequence"
   ]
  },
  {
   "cell_type": "code",
   "execution_count": 2,
   "metadata": {},
   "outputs": [
    {
     "data": {
      "text/plain": [
       "'/home/andrew/Jupyter-Notebooks'"
      ]
     },
     "execution_count": 2,
     "metadata": {},
     "output_type": "execute_result"
    }
   ],
   "source": [
    "%pwd"
   ]
  },
  {
   "cell_type": "code",
   "execution_count": 5,
   "metadata": {},
   "outputs": [
    {
     "name": "stdout",
     "output_type": "stream",
     "text": [
      "{'Seq1': 'ATCTCGTCTGTCGTGCTGATGCTGAATCTCGTCTGTCGTGCTGATGCTGAATCTCGTCTGTCGTGCTGATGCTGAATCTCGTCTGTCGTGCTGATGCTGAATCTCGTCTGTCGTGCTGATGCTGAATCTCGTCTGTCGTGCTGATGCTGAATCTCGTCTGTCGTGCTGATGCTGAATCTCGTCTGTCGTGCTGATGCTGAATCTCGTCTGTCGTGCTGATGCTGA', 'Seq2': 'ATCTCATCATGTCATGTACATCTCATCATGTCATGTACATCTCATCATGTCATGTACATCTCATCATGTCATGTACATCTCATCATGTCATGTACATCTCATCATGTCATGTACATCTCATCATGTCATGTACATCTCATCATGTCATGTACATCTCATCATGTCATGTACATCTCATCATGTCATGTAC', 'Seq3': 'ATGATGATG', 'Seq4': 'AAT'}\n"
     ]
    }
   ],
   "source": [
    "\n",
    "\n",
    "fasta_file = open('Inputs/Example_Fasta.fa', 'r') #open file in read mode\n",
    "FASTA_DICT = {} #initialise dictionary object\n",
    "\n",
    "for line in fasta_file: #iterate through the lines in the fasta file\n",
    "    line = line.rstrip() #remove the newline character from the end of the line\n",
    "    \n",
    "    if line[0] == '>':\n",
    "        seq_name = line[1:]\n",
    "        FASTA_DICT[seq_name] = '' # create empty entry in dictionary value \n",
    "    elif line[0] != '>':\n",
    "        sequence = line\n",
    "        FASTA_DICT[seq_name] = FASTA_DICT[seq_name] + sequence\n",
    "        \n",
    "fasta_file.close()\n",
    "\n",
    "print (FASTA_DICT)\n",
    "        "
   ]
  },
  {
   "cell_type": "code",
   "execution_count": 13,
   "metadata": {},
   "outputs": [
    {
     "name": "stdout",
     "output_type": "stream",
     "text": [
      "ATCTCGTCTGTCGTGCTGATGCTGAATCTCGTCTGTCGTGCTGATGCTGAATCTCGTCTGTCGTGCTGATGCTGAATCTCGTCTGTCGTGCTGATGCTGAATCTCGTCTGTCGTGCTGATGCTGAATCTCGTCTGTCGTGCTGATGCTGAATCTCGTCTGTCGTGCTGATGCTGAATCTCGTCTGTCGTGCTGATGCTGAATCTCGTCTGTCGTGCTGATGCTGAATCTCATCATGTCATGTACATCTCATCATGTCATGTACATCTCATCATGTCATGTACATCTCATCATGTCATGTACATCTCATCATGTCATGTACATCTCATCATGTCATGTACATCTCATCATGTCATGTACATCTCATCATGTCATGTACATCTCATCATGTCATGTACATCTCATCATGTCATGTACATGATGATGAAT\n",
      "['ATCTCGTCTGTCGTGCTGATGCTGAATCTCGTCTGTCGTGCTGATGCTGAATCTCGTCTGTCGTGCTGATGCTGAATCTCGTCTGTCGTGCTGATGCTGAATCTCGTCTGTCGTGCTGATGCTGAATCTCGTCTGTCGTGCTGATGCTGAATCTCGTCTGTCGTGCTGATGCTGAATCTCGTCTGTCGTGCTGATGCTGAATCTCGTCTGTCGTGCTGATGCTGA', 'ATCTCATCATGTCATGTACATCTCATCATGTCATGTACATCTCATCATGTCATGTACATCTCATCATGTCATGTACATCTCATCATGTCATGTACATCTCATCATGTCATGTACATCTCATCATGTCATGTACATCTCATCATGTCATGTACATCTCATCATGTCATGTACATCTCATCATGTCATGTAC', 'ATGATGATG', 'AAT']\n"
     ]
    }
   ],
   "source": [
    "# accessing the fasta dictionary\n",
    "sequences_list = ''\n",
    "SEQUENCES_LIST = []\n",
    "\n",
    "for seq_name, sequence in FASTA_DICT.items():\n",
    "    sequences_list =  sequences_list + sequence #merges all into one long string\n",
    "    SEQUENCES_LIST.append(sequence)\n",
    "print (sequences_list)\n",
    "print (SEQUENCES_LIST)\n",
    "    \n",
    "    "
   ]
  },
  {
   "cell_type": "code",
   "execution_count": null,
   "metadata": {},
   "outputs": [],
   "source": []
  }
 ],
 "metadata": {
  "kernelspec": {
   "display_name": "Python 3",
   "language": "python",
   "name": "python3"
  },
  "language_info": {
   "codemirror_mode": {
    "name": "ipython",
    "version": 3
   },
   "file_extension": ".py",
   "mimetype": "text/x-python",
   "name": "python",
   "nbconvert_exporter": "python",
   "pygments_lexer": "ipython3",
   "version": "3.7.3"
  }
 },
 "nbformat": 4,
 "nbformat_minor": 2
}
