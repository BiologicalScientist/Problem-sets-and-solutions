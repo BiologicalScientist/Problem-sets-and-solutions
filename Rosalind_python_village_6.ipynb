{
 "cells": [
  {
   "cell_type": "markdown",
   "metadata": {},
   "source": [
    "## Problem\n",
    "\n",
    "**Given:** A string s of length at most 10000 letters.\n",
    "\n",
    "**Return:** The number of occurrences of each word in s , where words are separated by spaces. Words are case-sensitive, and the lines in the output can be in any order.\n",
    "\n",
    "### Sample Dataset\n",
    "\n",
    "We tried list and we tried dicts also we tried Zen\n",
    "\n",
    "### Sample Output\n",
    "\n",
    "and 1\n",
    "We 1\n",
    "tried 3\n",
    "dicts 1\n",
    "list 1\n",
    "we 2\n",
    "also 1\n",
    "Zen 1\n"
   ]
  },
  {
   "cell_type": "markdown",
   "metadata": {},
   "source": [
    "steps required:\n",
    "    1. open the file\n",
    "    2. iterate to print out words\n",
    "    3. count instances of particular word appearing\n",
    "    4.\n",
    "    5.\n",
    "    6. "
   ]
  },
  {
   "cell_type": "code",
   "execution_count": 16,
   "metadata": {},
   "outputs": [
    {
     "name": "stdout",
     "output_type": "stream",
     "text": [
      "We tried list and we tried dicts also we tried Zen\n",
      "\n"
     ]
    },
    {
     "data": {
      "text/plain": [
       "str"
      ]
     },
     "execution_count": 16,
     "metadata": {},
     "output_type": "execute_result"
    }
   ],
   "source": [
    "f = open(\"Inputs/input_6.txt\", 'r')\n",
    "read1 = (f.read())\n",
    "print (read1)\n",
    "type (read1)"
   ]
  },
  {
   "cell_type": "code",
   "execution_count": 17,
   "metadata": {},
   "outputs": [
    {
     "name": "stdout",
     "output_type": "stream",
     "text": [
      "['We tried list and we tried dicts also we tried Zen\\n']\n"
     ]
    },
    {
     "data": {
      "text/plain": [
       "list"
      ]
     },
     "execution_count": 17,
     "metadata": {},
     "output_type": "execute_result"
    }
   ],
   "source": [
    "f = open(\"Inputs/input_6.txt\", 'r')\n",
    "read1 = (f.readlines())\n",
    "print (read1)\n",
    "type (read1)"
   ]
  },
  {
   "cell_type": "markdown",
   "metadata": {},
   "source": [
    "#**To iterate over the words in a string, you can split it at each occurrence of empty space as follows:** eg\n",
    "**for** word **in** **str**.split(' '):\n",
    "    **print** (word)"
   ]
  },
  {
   "cell_type": "code",
   "execution_count": 18,
   "metadata": {},
   "outputs": [
    {
     "name": "stdout",
     "output_type": "stream",
     "text": [
      "We\n",
      "tried\n",
      "list\n",
      "and\n",
      "we\n",
      "tried\n",
      "dicts\n",
      "also\n",
      "we\n",
      "tried\n",
      "Zen\n",
      "\n"
     ]
    }
   ],
   "source": [
    "f = open(\"Inputs/input_6.txt\", 'r')\n",
    "read1 = (f.read())\n",
    "for word in read1.split(' '):\n",
    "    print (word)"
   ]
  },
  {
   "cell_type": "markdown",
   "metadata": {},
   "source": [
    "the *word* here is a placeholder with no meaning. you can iterate through with any value here, it will simply take each one. as below where word is changed to i. Not sure if you can set limits on i or word."
   ]
  },
  {
   "cell_type": "code",
   "execution_count": 28,
   "metadata": {},
   "outputs": [
    {
     "name": "stdout",
     "output_type": "stream",
     "text": [
      "We\n",
      "tried\n",
      "list\n",
      "and\n",
      "we\n",
      "tried\n",
      "dicts\n",
      "also\n",
      "we\n",
      "tried\n",
      "Zen\n",
      "\n"
     ]
    }
   ],
   "source": [
    "f = open(\"Inputs/input_6.txt\", 'r')\n",
    "read1 = (f.read())\n",
    "for i in read1.split(' '):\n",
    "    print (i)"
   ]
  },
  {
   "cell_type": "code",
   "execution_count": 29,
   "metadata": {},
   "outputs": [
    {
     "name": "stdout",
     "output_type": "stream",
     "text": [
      "1\n",
      "We\n",
      "3\n",
      "tried\n",
      "1\n",
      "list\n",
      "1\n",
      "and\n",
      "2\n",
      "we\n",
      "3\n",
      "tried\n",
      "1\n",
      "dicts\n",
      "1\n",
      "also\n",
      "2\n",
      "we\n",
      "3\n",
      "tried\n",
      "1\n",
      "Zen\n",
      "\n"
     ]
    }
   ],
   "source": [
    "f = open(\"Inputs/input_6.txt\", 'r')\n",
    "read1 = (f.read())\n",
    "read2 = read1.split(' ')\n",
    "for i in read2:\n",
    "    print (read2.count(i))\n",
    "    print (i)"
   ]
  },
  {
   "cell_type": "code",
   "execution_count": 34,
   "metadata": {},
   "outputs": [
    {
     "name": "stdout",
     "output_type": "stream",
     "text": [
      "We\n",
      "1\n",
      "None None\n",
      "tried\n",
      "3\n",
      "None None\n",
      "list\n",
      "1\n",
      "None None\n",
      "and\n",
      "1\n",
      "None None\n",
      "we\n",
      "2\n",
      "None None\n",
      "tried\n",
      "3\n",
      "None None\n",
      "dicts\n",
      "1\n",
      "None None\n",
      "also\n",
      "1\n",
      "None None\n",
      "we\n",
      "2\n",
      "None None\n",
      "tried\n",
      "3\n",
      "None None\n",
      "Zen\n",
      "\n",
      "1\n",
      "None None\n"
     ]
    }
   ],
   "source": [
    "f = open(\"Inputs/input_6.txt\", 'r')\n",
    "read1 = (f.read())\n",
    "read2 = read1.split(' ')\n",
    "for i in read2:\n",
    "    key = str(print (i))\n",
    "    value = str(print (read2.count(i)))\n",
    "    total = key + ' ' + value\n",
    "    print (total)\n",
    "    "
   ]
  },
  {
   "cell_type": "code",
   "execution_count": 22,
   "metadata": {},
   "outputs": [
    {
     "name": "stdout",
     "output_type": "stream",
     "text": [
      "word1\n",
      "2\n",
      "word2\n",
      "3\n"
     ]
    }
   ],
   "source": [
    "dictionary = {'word1' : 2, 'word2' : 3 }\n",
    "for x, y in dictionary.items():\n",
    "    print (x)\n",
    "    print (y)"
   ]
  },
  {
   "cell_type": "code",
   "execution_count": null,
   "metadata": {},
   "outputs": [],
   "source": [
    "for word in "
   ]
  },
  {
   "cell_type": "markdown",
   "metadata": {},
   "source": [
    "# potentially useful code\n",
    "We've already used lists and strings to store and process data. Python also has a variable type called a \"dictionary\" that is similar to a list, but instead of having integer indices, you provide your own index, called a \"key\". You can assign data to a dictionary as follows: **phones = {'Zoe':'232-43-58', 'Alice':'165-88-56'}**. We can therefore think of a dictionary as a \"function\" that maps a collection of keys to values. As with lists, the values of the list can be of any type: strings, integers, floating point numbers, even lists or dictionaries themselves. For keys you can use only strings, numbers, floats and other immutable types. Accessing values of a dictionary is also similar to accessing values of a list:"
   ]
  },
  {
   "cell_type": "code",
   "execution_count": 1,
   "metadata": {},
   "outputs": [
    {
     "name": "stdout",
     "output_type": "stream",
     "text": [
      "232-43-58\n"
     ]
    }
   ],
   "source": [
    "phones = {'Zoe':'232-43-58', 'Alice':'165-88-56'}\n",
    "print (phones['Zoe'])"
   ]
  },
  {
   "cell_type": "markdown",
   "metadata": {},
   "source": [
    "Adding new values to a dictionary or assigning a new value to an existing key can be done as follows:"
   ]
  },
  {
   "cell_type": "code",
   "execution_count": 2,
   "metadata": {},
   "outputs": [
    {
     "name": "stdout",
     "output_type": "stream",
     "text": [
      "{'Zoe': '658-99-55', 'Alice': '165-88-56', 'Bill': '342-18-25'}\n"
     ]
    }
   ],
   "source": [
    "phones['Zoe'] = '658-99-55'\n",
    "phones['Bill'] = '342-18-25'\n",
    "print (phones)"
   ]
  },
  {
   "cell_type": "code",
   "execution_count": 4,
   "metadata": {},
   "outputs": [
    {
     "name": "stdout",
     "output_type": "stream",
     "text": [
      "{'key': 1, 'Key': 2, 'KEY': 3}\n"
     ]
    }
   ],
   "source": [
    "d = {}\n",
    "d['key'] = 1\n",
    "d['Key'] = 2\n",
    "d['KEY'] = 3\n",
    "print (d)"
   ]
  },
  {
   "cell_type": "markdown",
   "metadata": {},
   "source": [
    "Note how we created an empty dictionary with d = {}. This could be useful in case you need to add values to dictionary dynamically (for example, when reading a file). If you need to check whether there a key in dictionary, you can use key in d syntax:"
   ]
  },
  {
   "cell_type": "code",
   "execution_count": 5,
   "metadata": {},
   "outputs": [
    {
     "name": "stdout",
     "output_type": "stream",
     "text": [
      "We don't know Peter's phone\n"
     ]
    }
   ],
   "source": [
    "if 'Peter' in phones:\n",
    "    print (\"We know Peter's phone\")\n",
    "else:\n",
    "    print (\"We don't know Peter's phone\")"
   ]
  },
  {
   "cell_type": "code",
   "execution_count": 6,
   "metadata": {},
   "outputs": [
    {
     "name": "stdout",
     "output_type": "stream",
     "text": [
      "{'Alice': '165-88-56'}\n"
     ]
    }
   ],
   "source": [
    "phones = {'Zoe':'232-43-58', 'Alice':'165-88-56'}\n",
    "del phones['Zoe']\n",
    "print (phones)"
   ]
  },
  {
   "cell_type": "code",
   "execution_count": null,
   "metadata": {},
   "outputs": [],
   "source": []
  }
 ],
 "metadata": {
  "kernelspec": {
   "display_name": "Python 3",
   "language": "python",
   "name": "python3"
  },
  "language_info": {
   "codemirror_mode": {
    "name": "ipython",
    "version": 3
   },
   "file_extension": ".py",
   "mimetype": "text/x-python",
   "name": "python",
   "nbconvert_exporter": "python",
   "pygments_lexer": "ipython3",
   "version": "3.7.3"
  }
 },
 "nbformat": 4,
 "nbformat_minor": 2
}
