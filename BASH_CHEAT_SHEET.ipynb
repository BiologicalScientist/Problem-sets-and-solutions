{
 "cells": [
  {
   "cell_type": "markdown",
   "metadata": {},
   "source": [
    "# http://omgenomics.com/bash-intro/"
   ]
  },
  {
   "cell_type": "code",
   "execution_count": 2,
   "metadata": {},
   "outputs": [
    {
     "data": {
      "text/plain": [
       "'/home/andrew/Jupyter-Notebooks'"
      ]
     },
     "execution_count": 2,
     "metadata": {},
     "output_type": "execute_result"
    }
   ],
   "source": [
    "%pwd"
   ]
  },
  {
   "cell_type": "code",
   "execution_count": 3,
   "metadata": {},
   "outputs": [
    {
     "name": "stdout",
     "output_type": "stream",
     "text": [
      "BASH_CHEAT_SHEET.ipynb\r\n",
      "\u001b[0m\u001b[01;34mCode\u001b[0m/\r\n",
      "Glossary.ipynb\r\n",
      "input_6.txt~\r\n",
      "\u001b[01;34mInputs\u001b[0m/\r\n",
      "Jupyter_tutorial.ipynb\r\n",
      "\u001b[01;34mOutputs\u001b[0m/\r\n",
      "Python3_Cheat_Sheet_1.ipynb\r\n",
      "Rosaind_Translating_RNA_into_Protein.ipynb\r\n",
      "Rosalind_Complementing_a_Strand_of_DNA.ipynb\r\n",
      "Rosalind_Computing_GC_Content.ipynb\r\n",
      "Rosalind_Counting_DNA_Nucleotides.ipynb\r\n",
      "Rosalind_Counting_Point_Mutations.ipynb\r\n",
      "Rosalind_Finding_a_Shared_Motif.ipynb\r\n",
      "Rosalind_Finding_motifs_in_DNA.ipynb\r\n",
      "Rosalind_python_village_5.ipynb\r\n",
      "Rosalind_python_village_6.ipynb\r\n",
      "Rosalind_Rabbits_and_Recurrence_Relations.ipynb\r\n",
      "Rosalind_Transcribing_RNA_into_DNA.ipynb\r\n"
     ]
    }
   ],
   "source": [
    "%ls"
   ]
  },
  {
   "cell_type": "code",
   "execution_count": 4,
   "metadata": {},
   "outputs": [
    {
     "name": "stdout",
     "output_type": "stream",
     "text": [
      "/home/andrew/Desktop/new_folder\n"
     ]
    }
   ],
   "source": [
    "%cd /home/andrew/Desktop/new_folder/\n",
    "%ls"
   ]
  },
  {
   "cell_type": "code",
   "execution_count": 6,
   "metadata": {},
   "outputs": [
    {
     "name": "stderr",
     "output_type": "stream",
     "text": [
      "UsageError: Line magic function `%touch` not found.\n"
     ]
    }
   ],
   "source": [
    "%touch new_file.txt #make new file"
   ]
  },
  {
   "cell_type": "code",
   "execution_count": 7,
   "metadata": {},
   "outputs": [
    {
     "name": "stderr",
     "output_type": "stream",
     "text": [
      "UsageError: Line magic function `%open` not found.\n"
     ]
    }
   ],
   "source": [
    "%open new_file.txt  #open file in command line"
   ]
  },
  {
   "cell_type": "code",
   "execution_count": 8,
   "metadata": {},
   "outputs": [
    {
     "name": "stderr",
     "output_type": "stream",
     "text": [
      "UsageError: Line magic function `%nano` not found.\n"
     ]
    }
   ],
   "source": [
    "%nano new_file.txt #alter file in command line"
   ]
  },
  {
   "cell_type": "code",
   "execution_count": 9,
   "metadata": {},
   "outputs": [
    {
     "name": "stdout",
     "output_type": "stream",
     "text": [
      "add some text here\r\n",
      "and a second line\r\n",
      "Pikachu\tElectric\tnone\r\n",
      "Bulbasaur\tGrass\tPoison\r\n",
      "Charmander\tFire\tnone\r\n",
      "Squirtle\tWater\tnone\r\n",
      "Caterpie\tBug\tnone\r\n",
      "Weedle\tBug\tPoison\r\n",
      "Pidgey\tNormal\tFlying\r\n",
      "Ivysaur\tGrass\tPoison\r\n",
      "Charmeleon\tFire\tnone\r\n",
      "Wartortle\tWater\tnone\r\n",
      "Metapod\tBug\tnone\r\n",
      "Kakuna\tBug\tPoison\r\n",
      "Pidgeotto\tNormal\tFlying\r\n",
      "Venusaur\tGrass\tPoison\r\n",
      "Charizard\tFire\tFlying\r\n",
      "Blastoise\tWater\tnone\r\n",
      "Butterfree\tBug\tFlying\r\n",
      "Beedrill\tBug\tPoison\r\n",
      "Pidgeot\tNormal\tFlying\r\n",
      "\r\n"
     ]
    }
   ],
   "source": [
    "%cat new_file.txt #print full file contents to terminal"
   ]
  },
  {
   "cell_type": "code",
   "execution_count": 10,
   "metadata": {},
   "outputs": [
    {
     "name": "stderr",
     "output_type": "stream",
     "text": [
      "UsageError: Line magic function `%head` not found.\n"
     ]
    }
   ],
   "source": [
    "%head -n new_file.txt #gives first 10 lines by default can modify to show n instead"
   ]
  },
  {
   "cell_type": "code",
   "execution_count": 11,
   "metadata": {},
   "outputs": [
    {
     "ename": "FileNotFoundError",
     "evalue": "[Errno 2] No such file or directory: '-S new_file.txt'",
     "output_type": "error",
     "traceback": [
      "\u001b[0;31m---------------------------------------------------------------------------\u001b[0m",
      "\u001b[0;31mFileNotFoundError\u001b[0m                         Traceback (most recent call last)",
      "\u001b[0;32m<ipython-input-11-d6e275a73188>\u001b[0m in \u001b[0;36m<module>\u001b[0;34m\u001b[0m\n\u001b[0;32m----> 1\u001b[0;31m \u001b[0mget_ipython\u001b[0m\u001b[0;34m(\u001b[0m\u001b[0;34m)\u001b[0m\u001b[0;34m.\u001b[0m\u001b[0mrun_line_magic\u001b[0m\u001b[0;34m(\u001b[0m\u001b[0;34m'less'\u001b[0m\u001b[0;34m,\u001b[0m \u001b[0;34m'-S new_file.txt'\u001b[0m\u001b[0;34m)\u001b[0m\u001b[0;34m\u001b[0m\u001b[0;34m\u001b[0m\u001b[0m\n\u001b[0m",
      "\u001b[0;32m~/anaconda3/lib/python3.7/site-packages/IPython/core/interactiveshell.py\u001b[0m in \u001b[0;36mrun_line_magic\u001b[0;34m(self, magic_name, line, _stack_depth)\u001b[0m\n\u001b[1;32m   2305\u001b[0m                 \u001b[0mkwargs\u001b[0m\u001b[0;34m[\u001b[0m\u001b[0;34m'local_ns'\u001b[0m\u001b[0;34m]\u001b[0m \u001b[0;34m=\u001b[0m \u001b[0msys\u001b[0m\u001b[0;34m.\u001b[0m\u001b[0m_getframe\u001b[0m\u001b[0;34m(\u001b[0m\u001b[0mstack_depth\u001b[0m\u001b[0;34m)\u001b[0m\u001b[0;34m.\u001b[0m\u001b[0mf_locals\u001b[0m\u001b[0;34m\u001b[0m\u001b[0;34m\u001b[0m\u001b[0m\n\u001b[1;32m   2306\u001b[0m             \u001b[0;32mwith\u001b[0m \u001b[0mself\u001b[0m\u001b[0;34m.\u001b[0m\u001b[0mbuiltin_trap\u001b[0m\u001b[0;34m:\u001b[0m\u001b[0;34m\u001b[0m\u001b[0;34m\u001b[0m\u001b[0m\n\u001b[0;32m-> 2307\u001b[0;31m                 \u001b[0mresult\u001b[0m \u001b[0;34m=\u001b[0m \u001b[0mfn\u001b[0m\u001b[0;34m(\u001b[0m\u001b[0;34m*\u001b[0m\u001b[0margs\u001b[0m\u001b[0;34m,\u001b[0m \u001b[0;34m**\u001b[0m\u001b[0mkwargs\u001b[0m\u001b[0;34m)\u001b[0m\u001b[0;34m\u001b[0m\u001b[0;34m\u001b[0m\u001b[0m\n\u001b[0m\u001b[1;32m   2308\u001b[0m             \u001b[0;32mreturn\u001b[0m \u001b[0mresult\u001b[0m\u001b[0;34m\u001b[0m\u001b[0;34m\u001b[0m\u001b[0m\n\u001b[1;32m   2309\u001b[0m \u001b[0;34m\u001b[0m\u001b[0m\n",
      "\u001b[0;32m</home/andrew/anaconda3/lib/python3.7/site-packages/decorator.py:decorator-gen-118>\u001b[0m in \u001b[0;36mless\u001b[0;34m(self, arg_s)\u001b[0m\n",
      "\u001b[0;32m~/anaconda3/lib/python3.7/site-packages/IPython/core/magic.py\u001b[0m in \u001b[0;36m<lambda>\u001b[0;34m(f, *a, **k)\u001b[0m\n\u001b[1;32m    185\u001b[0m     \u001b[0;31m# but it's overkill for just that one bit of state.\u001b[0m\u001b[0;34m\u001b[0m\u001b[0;34m\u001b[0m\u001b[0;34m\u001b[0m\u001b[0m\n\u001b[1;32m    186\u001b[0m     \u001b[0;32mdef\u001b[0m \u001b[0mmagic_deco\u001b[0m\u001b[0;34m(\u001b[0m\u001b[0marg\u001b[0m\u001b[0;34m)\u001b[0m\u001b[0;34m:\u001b[0m\u001b[0;34m\u001b[0m\u001b[0;34m\u001b[0m\u001b[0m\n\u001b[0;32m--> 187\u001b[0;31m         \u001b[0mcall\u001b[0m \u001b[0;34m=\u001b[0m \u001b[0;32mlambda\u001b[0m \u001b[0mf\u001b[0m\u001b[0;34m,\u001b[0m \u001b[0;34m*\u001b[0m\u001b[0ma\u001b[0m\u001b[0;34m,\u001b[0m \u001b[0;34m**\u001b[0m\u001b[0mk\u001b[0m\u001b[0;34m:\u001b[0m \u001b[0mf\u001b[0m\u001b[0;34m(\u001b[0m\u001b[0;34m*\u001b[0m\u001b[0ma\u001b[0m\u001b[0;34m,\u001b[0m \u001b[0;34m**\u001b[0m\u001b[0mk\u001b[0m\u001b[0;34m)\u001b[0m\u001b[0;34m\u001b[0m\u001b[0;34m\u001b[0m\u001b[0m\n\u001b[0m\u001b[1;32m    188\u001b[0m \u001b[0;34m\u001b[0m\u001b[0m\n\u001b[1;32m    189\u001b[0m         \u001b[0;32mif\u001b[0m \u001b[0mcallable\u001b[0m\u001b[0;34m(\u001b[0m\u001b[0marg\u001b[0m\u001b[0;34m)\u001b[0m\u001b[0;34m:\u001b[0m\u001b[0;34m\u001b[0m\u001b[0;34m\u001b[0m\u001b[0m\n",
      "\u001b[0;32m~/anaconda3/lib/python3.7/site-packages/ipykernel/zmqshell.py\u001b[0m in \u001b[0;36mless\u001b[0;34m(self, arg_s)\u001b[0m\n\u001b[1;32m    340\u001b[0m             \u001b[0mcont\u001b[0m \u001b[0;34m=\u001b[0m \u001b[0mself\u001b[0m\u001b[0;34m.\u001b[0m\u001b[0mshell\u001b[0m\u001b[0;34m.\u001b[0m\u001b[0mpycolorize\u001b[0m\u001b[0;34m(\u001b[0m\u001b[0mopenpy\u001b[0m\u001b[0;34m.\u001b[0m\u001b[0mread_py_file\u001b[0m\u001b[0;34m(\u001b[0m\u001b[0marg_s\u001b[0m\u001b[0;34m,\u001b[0m \u001b[0mskip_encoding_cookie\u001b[0m\u001b[0;34m=\u001b[0m\u001b[0;32mFalse\u001b[0m\u001b[0;34m)\u001b[0m\u001b[0;34m)\u001b[0m\u001b[0;34m\u001b[0m\u001b[0;34m\u001b[0m\u001b[0m\n\u001b[1;32m    341\u001b[0m         \u001b[0;32melse\u001b[0m\u001b[0;34m:\u001b[0m\u001b[0;34m\u001b[0m\u001b[0;34m\u001b[0m\u001b[0m\n\u001b[0;32m--> 342\u001b[0;31m             \u001b[0mcont\u001b[0m \u001b[0;34m=\u001b[0m \u001b[0mopen\u001b[0m\u001b[0;34m(\u001b[0m\u001b[0marg_s\u001b[0m\u001b[0;34m)\u001b[0m\u001b[0;34m.\u001b[0m\u001b[0mread\u001b[0m\u001b[0;34m(\u001b[0m\u001b[0;34m)\u001b[0m\u001b[0;34m\u001b[0m\u001b[0;34m\u001b[0m\u001b[0m\n\u001b[0m\u001b[1;32m    343\u001b[0m         \u001b[0mpage\u001b[0m\u001b[0;34m.\u001b[0m\u001b[0mpage\u001b[0m\u001b[0;34m(\u001b[0m\u001b[0mcont\u001b[0m\u001b[0;34m)\u001b[0m\u001b[0;34m\u001b[0m\u001b[0;34m\u001b[0m\u001b[0m\n\u001b[1;32m    344\u001b[0m \u001b[0;34m\u001b[0m\u001b[0m\n",
      "\u001b[0;31mFileNotFoundError\u001b[0m: [Errno 2] No such file or directory: '-S new_file.txt'"
     ]
    }
   ],
   "source": [
    "%less -S new_file.txt #view output like cat but not print to terminal"
   ]
  },
  {
   "cell_type": "code",
   "execution_count": 12,
   "metadata": {},
   "outputs": [
    {
     "name": "stdout",
     "output_type": "stream",
     "text": [
      "Electric\r\n",
      "Grass\r\n",
      "Fire\r\n",
      "Water\r\n",
      "Bug\r\n",
      "Bug\r\n",
      "Normal\r\n",
      "Grass\r\n",
      "Fire\r\n",
      "Water\r\n",
      "Bug\r\n",
      "Bug\r\n",
      "Normal\r\n",
      "Grass\r\n",
      "Fire\r\n",
      "Water\r\n",
      "Bug\r\n",
      "Bug\r\n",
      "Normal\r\n",
      "\r\n"
     ]
    }
   ],
   "source": [
    "%cat new_file.txt | cut -f 2 #pipes the print out from cat to the cut command and field 2 is printed"
   ]
  },
  {
   "cell_type": "code",
   "execution_count": 13,
   "metadata": {},
   "outputs": [
    {
     "name": "stdout",
     "output_type": "stream",
     "text": [
      "      1 Electric\r\n",
      "      1 Grass\r\n",
      "      1 Fire\r\n",
      "      1 Water\r\n",
      "      2 Bug\r\n",
      "      1 Normal\r\n",
      "      1 Grass\r\n",
      "      1 Fire\r\n",
      "      1 Water\r\n",
      "      2 Bug\r\n",
      "      1 Normal\r\n",
      "      1 Grass\r\n",
      "      1 Fire\r\n",
      "      1 Water\r\n",
      "      2 Bug\r\n",
      "      1 Normal\r\n",
      "      1 \r\n"
     ]
    }
   ],
   "source": [
    "%cat new_file.txt | cut -f 2 | uniq -c #uniq next to another consolidated -c gives counts"
   ]
  },
  {
   "cell_type": "code",
   "execution_count": 14,
   "metadata": {},
   "outputs": [
    {
     "name": "stdout",
     "output_type": "stream",
     "text": [
      "      1 \r\n",
      "      6 Bug\r\n",
      "      1 Electric\r\n",
      "      3 Fire\r\n",
      "      3 Grass\r\n",
      "      3 Normal\r\n",
      "      3 Water\r\n"
     ]
    }
   ],
   "source": [
    "%cat new_file.txt | cut -f 2 | sort | uniq -c #sorted first"
   ]
  },
  {
   "cell_type": "code",
   "execution_count": 16,
   "metadata": {},
   "outputs": [
    {
     "name": "stdout",
     "output_type": "stream",
     "text": [
      "      1 \r\n",
      "      1 Electric\r\n",
      "      3 Fire\r\n",
      "      3 Grass\r\n",
      "      3 Normal\r\n",
      "      3 Water\r\n",
      "      6 Bug\r\n"
     ]
    }
   ],
   "source": [
    "%cat new_file.txt | cut -f 2 | sort | uniq -c | sort -k1,1n #sort column 1-1 (k1,1) numerically (n)"
   ]
  },
  {
   "cell_type": "code",
   "execution_count": 17,
   "metadata": {},
   "outputs": [
    {
     "name": "stdout",
     "output_type": "stream",
     "text": [
      "      6 Bug\r\n",
      "      3 Fire\r\n",
      "      3 Grass\r\n",
      "      3 Normal\r\n",
      "      3 Water\r\n",
      "      1 \r\n",
      "      1 Electric\r\n"
     ]
    }
   ],
   "source": [
    "%cat new_file.txt | cut -f 2 | sort | uniq -c | sort -k1,1nr #same but reverse order"
   ]
  },
  {
   "cell_type": "code",
   "execution_count": 18,
   "metadata": {},
   "outputs": [
    {
     "name": "stdout",
     "output_type": "stream",
     "text": [
      "      1 \r\n",
      "      1 Electric\r\n",
      "      3 Fire\r\n",
      "      3 Grass\r\n",
      "      3 Normal\r\n",
      "      3 Water\r\n",
      "      6 Bug\r\n"
     ]
    }
   ],
   "source": [
    "%cat new_file.txt | cut -f 2 | sort | uniq -c | sort -k1,1 -k2,2n #sort column 1 alphabet then 2 numerically"
   ]
  },
  {
   "cell_type": "code",
   "execution_count": 19,
   "metadata": {},
   "outputs": [
    {
     "name": "stdout",
     "output_type": "stream",
     "text": [
      "% pwd\n",
      "%pwd\n",
      "%ls\n",
      "%cd /home/andrew/Desktop/new_folder/\n",
      "%ls\n",
      "touch new_file.txt\n",
      "%touch new_file.txt\n",
      "%open new_file.txt\n",
      "%nano new_file.txt\n",
      "%cat new_file.txt #print full file contents to terminal\n",
      "%head new_file.txt #gives first 5 lines by default\n",
      "%less -S new_file.txt\n",
      "%cat new_file.txt | cut -f 2 #pipes the print out from cat to the cut command and field 2 is printed\n",
      "%cat new_file.txt | cut -f 2 | uniq -c #pipes the print out from cat to the cut command and field 2 is printed\n",
      "%cat new_file.txt | cut -f 2 | sort | uniq -c #sorted first\n",
      "%cat new_file.txt | cut -f 2 | sort | uniq -c | sort -k1, 1n\n",
      "%cat new_file.txt | cut -f 2 | sort | uniq -c | sort -k1,1n\n",
      "%cat new_file.txt | cut -f 2 | sort | uniq -c | sort -k1,1nr\n",
      "%cat new_file.txt | cut -f 2 | sort | uniq -c | sort -k1,1 -k2,2n #sort column 1 alphabet then 2 numberically\n",
      "%history\n"
     ]
    }
   ],
   "source": [
    "%history #provides history of commands in that session"
   ]
  },
  {
   "cell_type": "code",
   "execution_count": 20,
   "metadata": {},
   "outputs": [
    {
     "name": "stderr",
     "output_type": "stream",
     "text": [
      "UsageError: Line magic function `%sort` not found.\n"
     ]
    }
   ],
   "source": [
    "%sort --help #provides manual for function"
   ]
  },
  {
   "cell_type": "code",
   "execution_count": 21,
   "metadata": {},
   "outputs": [],
   "source": [
    "%man uniq #provides manual for function"
   ]
  },
  {
   "cell_type": "code",
   "execution_count": 22,
   "metadata": {},
   "outputs": [
    {
     "name": "stderr",
     "output_type": "stream",
     "text": [
      "UsageError: Line magic function `%chmod` not found.\n"
     ]
    }
   ],
   "source": [
    "%chmod +x myscript #makes file myscript executable"
   ]
  },
  {
   "cell_type": "code",
   "execution_count": null,
   "metadata": {},
   "outputs": [],
   "source": []
  }
 ],
 "metadata": {
  "kernelspec": {
   "display_name": "Python 3",
   "language": "python",
   "name": "python3"
  },
  "language_info": {
   "codemirror_mode": {
    "name": "ipython",
    "version": 3
   },
   "file_extension": ".py",
   "mimetype": "text/x-python",
   "name": "python",
   "nbconvert_exporter": "python",
   "pygments_lexer": "ipython3",
   "version": "3.7.3"
  }
 },
 "nbformat": 4,
 "nbformat_minor": 2
}
