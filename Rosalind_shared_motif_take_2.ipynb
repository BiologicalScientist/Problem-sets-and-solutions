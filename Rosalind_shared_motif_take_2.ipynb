{
 "cells": [
  {
   "cell_type": "markdown",
   "metadata": {},
   "source": [
    "Problem\n",
    "\n",
    "A common substring of a collection of strings is a substring of every member of the collection. We say that a common substring is a longest common substring if there does not exist a longer common substring. For example, \"CG\" is a common substring of \"ACGTACGT\" and \"AACCGTATA\", but it is not as long as possible; in this case, \"CGTA\" is a longest common substring of \"ACGTACGT\" and \"AACCGTATA\".\n",
    "\n",
    "Note that the longest common substring is not necessarily unique; for a simple example, \"AA\" and \"CC\" are both longest common substrings of \"AACC\" and \"CCAA\".\n",
    "\n",
    "Given: A collection of k\n",
    "(k≤100\n",
    "\n",
    ") DNA strings of length at most 1 kbp each in FASTA format.\n",
    "\n",
    "Return: A longest common substring of the collection. (If multiple solutions exist, you may return any single solution.)\n",
    "Sample Dataset\n",
    "\n",
    ">Rosalind_1\n",
    "GATTACA\n",
    ">Rosalind_2\n",
    "TAGACCA\n",
    ">Rosalind_3\n",
    "ATACA\n",
    "\n",
    "Sample Output\n",
    "\n",
    "AC\n"
   ]
  },
  {
   "cell_type": "code",
   "execution_count": null,
   "metadata": {},
   "outputs": [],
   "source": [
    "# open FASTA file and splite into headers and sequences dictionary from previous code\n",
    "\n",
    "fasta_file = open('Inputs/Motifs_in_DNA2.txt', 'r') #open file in read mode\n",
    "FASTA_DICT = {} #initialise dictionary object\n",
    "\n",
    "for line in fasta_file: #iterate through the lines in the fasta file\n",
    "    line = line.rstrip() #remove the newline character from the end of the line\n",
    "    \n",
    "    if line[0] == '>':\n",
    "        seq_name = line[1:]\n",
    "        FASTA_DICT[seq_name] = '' # create empty entry in dictionary value \n",
    "    elif line[0] != '>':\n",
    "        sequence = line\n",
    "        FASTA_DICT[seq_name] = FASTA_DICT[seq_name] + sequence\n",
    "        \n",
    "print (FASTA_DICT)\n",
    "        \n",
    "fasta_file.close()\n",
    "\n",
    "\n",
    "    \n",
    "       "
   ]
  },
  {
   "cell_type": "code",
   "execution_count": null,
   "metadata": {},
   "outputs": [],
   "source": [
    "for header in FASTA_DICT.keys(): #take the key from the dictionary FASTA_DICT and store as header variable\n",
    "    sequence = FASTA_DICT[header] # take the value for the header key in FASTA_DICAT and store sequence variable\n",
    "    length = len (sequence) #take length of the sequence variable (total sequence length)\n",
    "    motifs = []\n",
    "    x = 0\n",
    "    while x <= length:\n",
    "        for i in range(length):\n",
    "            print (sequence[i:x])\n",
    "        x = x + 1\n",
    "        \n",
    "        \n",
    "    "
   ]
  },
  {
   "cell_type": "code",
   "execution_count": null,
   "metadata": {
    "scrolled": true
   },
   "outputs": [],
   "source": [
    "for header in FASTA_DICT.keys(): #take the key from the dictionary FASTA_DICT and store as header variable\n",
    "    sequence = FASTA_DICT[header] # take the value for the header key in FASTA_DICAT and store sequence variable\n",
    "    length = len (sequence) #take length of the sequence variable (total sequence length)\n",
    "    motifs = []\n",
    "    x = 0\n",
    "    while x <= length:\n",
    "        for i in range(length):\n",
    "            if (sequence[i:x]) != '':\n",
    "                motifs.append(sequence[i:x])\n",
    "        x = x + 1\n",
    "    print(motifs)\n",
    "        "
   ]
  },
  {
   "cell_type": "code",
   "execution_count": null,
   "metadata": {},
   "outputs": [],
   "source": [
    "motifs = ['A', 'AT', 'T', 'ATA', 'TA', 'A', 'ATAC', 'TAC', 'AC', 'C', 'ATACA', 'TACA', 'ACA', 'CA', 'A']\n",
    "for motif in motifs:\n",
    "    print (motif)\n",
    "    if motif not in 'GATTACA':\n",
    "        motifs.remove(motif)\n",
    "print (motifs)"
   ]
  },
  {
   "cell_type": "code",
   "execution_count": null,
   "metadata": {},
   "outputs": [],
   "source": [
    "motifs = ['A', 'AT', 'T', 'ATA', 'TA', 'A', 'ATAC', 'TAC', 'AC', 'C', 'ATACA', 'TACA', 'ACA', 'CA', 'A']\n",
    "for motif in motifs:\n",
    "    print (motif)\n",
    "    if motif not in 'GATTACA':\n",
    "        motifs.remove(motif)\n",
    "print (motifs)"
   ]
  },
  {
   "cell_type": "code",
   "execution_count": null,
   "metadata": {},
   "outputs": [],
   "source": [
    "for header in FASTA_DICT.keys(): #take the key from the dictionary FASTA_DICT and store as header variable\n",
    "    sequence = FASTA_DICT[header] # take the value for the header key in FASTA_DICAT and store sequence variable\n",
    "    length = len (sequence) #take length of the sequence variable (total sequence length)\n",
    "    motifs = []\n",
    "    x = 0\n",
    "    while x <= length:\n",
    "        for i in range(length):\n",
    "            if (sequence[i:x]) != '':\n",
    "                motifs.append(sequence[i:x])\n",
    "        x = x + 1\n",
    "print(motifs)"
   ]
  },
  {
   "cell_type": "code",
   "execution_count": null,
   "metadata": {},
   "outputs": [],
   "source": [
    "for motif in motifs:\n",
    "    for header in FASTA_DICT.keys(): \n",
    "        sequence = FASTA_DICT[header]\n",
    "        if motif not in motifs:\n",
    "            continue\n",
    "        if motif not in sequence:\n",
    "            motifs.remove(motif)\n",
    "print (motifs)"
   ]
  },
  {
   "cell_type": "code",
   "execution_count": null,
   "metadata": {},
   "outputs": [],
   "source": [
    "for header in FASTA_DICT.keys(): \n",
    "    sequence = FASTA_DICT[header]\n",
    "    for motif in motifs:\n",
    "        if motif not in sequence:\n",
    "            motifs.remove(motif)\n",
    "print (motifs)"
   ]
  },
  {
   "cell_type": "code",
   "execution_count": 4,
   "metadata": {},
   "outputs": [
    {
     "name": "stdout",
     "output_type": "stream",
     "text": [
      "{'Rosalind_1': 'GATTACA', 'Rosalind_2': 'TAGACCA', 'Rosalind_3': 'ATACA'}\n",
      "['A', 'AT', 'T', 'ATA', 'TA', 'A', 'ATAC', 'TAC', 'AC', 'C', 'ATACA', 'TACA', 'ACA', 'CA', 'A']\n",
      "ATA\n",
      "ATAC\n",
      "ATACA\n",
      "AT\n",
      "TAC\n",
      "TACA\n",
      "['A', 'T', 'TA', 'A', 'AC', 'C', 'ACA', 'CA', 'A']\n",
      "['ATA', 'ATAC', 'ATACA', 'AT', 'TAC', 'TACA']\n"
     ]
    }
   ],
   "source": [
    "fasta_file = open('Inputs/Motifs_in_DNA2.txt', 'r') #open file in read mode\n",
    "FASTA_DICT = {} #initialise dictionary object\n",
    "\n",
    "for line in fasta_file: #iterate through the lines in the fasta file\n",
    "    line = line.rstrip() #remove the newline character from the end of the line\n",
    "    \n",
    "    if line[0] == '>':\n",
    "        seq_name = line[1:]\n",
    "        FASTA_DICT[seq_name] = '' # create empty entry in dictionary value \n",
    "    elif line[0] != '>':\n",
    "        sequence = line\n",
    "        FASTA_DICT[seq_name] = FASTA_DICT[seq_name] + sequence\n",
    "        \n",
    "print (FASTA_DICT)\n",
    "        \n",
    "fasta_file.close()\n",
    "unshared = []\n",
    "\n",
    "for header in FASTA_DICT.keys(): #take the key from the dictionary FASTA_DICT and store as header variable\n",
    "    sequence = FASTA_DICT[header] # take the value for the header key in FASTA_DICAT and store sequence variable\n",
    "    length = len (sequence) #take length of the sequence variable (total sequence length)\n",
    "    motifs = []\n",
    "    x = 0\n",
    "    while x <= length:\n",
    "        for i in range(length):\n",
    "            if (sequence[i:x]) != '':\n",
    "                motifs.append(sequence[i:x])\n",
    "        x = x + 1\n",
    "print(motifs)\n",
    "\n",
    "for header in FASTA_DICT.keys(): \n",
    "    sequence = FASTA_DICT[header]\n",
    "    for motif in motifs:\n",
    "        if motif not in sequence:\n",
    "            motifs.remove(motif)\n",
    "            unshared.append(motif)\n",
    "            print (motif)\n",
    "            continue\n",
    "print (motifs)\n",
    "print (unshared)"
   ]
  },
  {
   "cell_type": "code",
   "execution_count": 1,
   "metadata": {},
   "outputs": [
    {
     "name": "stdout",
     "output_type": "stream",
     "text": [
      "{'Rosalind_1': 'GATTACA', 'Rosalind_2': 'TAGACCA', 'Rosalind_3': 'ATACA'}\n",
      "['A', 'AT', 'T', 'ATA', 'TA', 'A', 'ATAC', 'TAC', 'AC', 'C', 'ATACA', 'TACA', 'ACA', 'CA', 'A']\n",
      "AT\n",
      "ATA\n",
      "ATA\n",
      "ATAC\n",
      "ATAC\n",
      "TAC\n",
      "ATACA\n",
      "ATACA\n",
      "TACA\n",
      "ACA\n",
      "['A', 'AT', 'T', 'ATA', 'TA', 'A', 'ATAC', 'TAC', 'AC', 'C', 'ATACA', 'TACA', 'ACA', 'CA', 'A']\n",
      "['AT', 'ATA', 'ATA', 'ATAC', 'ATAC', 'TAC', 'ATACA', 'ATACA', 'TACA', 'ACA']\n"
     ]
    }
   ],
   "source": [
    "fasta_file = open('Inputs/Motifs_in_DNA2.txt', 'r') #open file in read mode\n",
    "FASTA_DICT = {} #initialise dictionary object\n",
    "\n",
    "for line in fasta_file: #iterate through the lines in the fasta file\n",
    "    line = line.rstrip() #remove the newline character from the end of the line\n",
    "    \n",
    "    if line[0] == '>':\n",
    "        seq_name = line[1:]\n",
    "        FASTA_DICT[seq_name] = '' # create empty entry in dictionary value \n",
    "    elif line[0] != '>':\n",
    "        sequence = line\n",
    "        FASTA_DICT[seq_name] = FASTA_DICT[seq_name] + sequence\n",
    "        \n",
    "print (FASTA_DICT)\n",
    "        \n",
    "fasta_file.close()\n",
    "unshared = []\n",
    "\n",
    "for header in FASTA_DICT.keys(): #take the key from the dictionary FASTA_DICT and store as header variable\n",
    "    sequence = FASTA_DICT[header] # take the value for the header key in FASTA_DICAT and store sequence variable\n",
    "    length = len (sequence) #take length of the sequence variable (total sequence length)\n",
    "    motifs = []\n",
    "    x = 0\n",
    "    while x <= length:\n",
    "        for i in range(length):\n",
    "            if (sequence[i:x]) != '':\n",
    "                motifs.append(sequence[i:x])\n",
    "        x = x + 1\n",
    "print(motifs)\n",
    "\n",
    "for motif in motifs:\n",
    "    for sequence in FASTA_DICT.values(): \n",
    "        if motif not in sequence:\n",
    "            unshared.append(motif)\n",
    "            print (motif)\n",
    "            continue\n",
    "print (motifs)\n",
    "print (unshared)"
   ]
  },
  {
   "cell_type": "code",
   "execution_count": 10,
   "metadata": {},
   "outputs": [
    {
     "name": "stdout",
     "output_type": "stream",
     "text": [
      "['A', 'T', 'TA', 'A', 'TAC', 'AC', 'C', 'TACA', 'CA', 'A']\n"
     ]
    }
   ],
   "source": [
    "for motif in motifs:\n",
    "    if motif in unshared:\n",
    "        motifs.remove(motif)\n",
    "print (motifs)"
   ]
  },
  {
   "cell_type": "code",
   "execution_count": 7,
   "metadata": {},
   "outputs": [
    {
     "name": "stdout",
     "output_type": "stream",
     "text": [
      "{'Rosalind_1': 'GATTACA', 'Rosalind_2': 'TAGACCA', 'Rosalind_3': 'ATACA'}\n",
      "['A', 'AT', 'T', 'ATA', 'TA', 'A', 'ATAC', 'TAC', 'AC', 'C', 'ATACA', 'TACA', 'ACA', 'CA', 'A']\n",
      "['GATTACA', 'TAGACCA', 'ATACA']\n"
     ]
    },
    {
     "ename": "IndexError",
     "evalue": "list index out of range",
     "output_type": "error",
     "traceback": [
      "\u001b[0;31m---------------------------------------------------------------------------\u001b[0m",
      "\u001b[0;31mIndexError\u001b[0m                                Traceback (most recent call last)",
      "\u001b[0;32m<ipython-input-7-a244e4c9f7b6>\u001b[0m in \u001b[0;36m<module>\u001b[0;34m\u001b[0m\n\u001b[1;32m     40\u001b[0m     \u001b[0mi\u001b[0m \u001b[0;34m=\u001b[0m \u001b[0;36m0\u001b[0m\u001b[0;34m\u001b[0m\u001b[0;34m\u001b[0m\u001b[0m\n\u001b[1;32m     41\u001b[0m     \u001b[0;32mfor\u001b[0m \u001b[0mmotif\u001b[0m \u001b[0;32min\u001b[0m \u001b[0mmotifs\u001b[0m\u001b[0;34m:\u001b[0m\u001b[0;34m\u001b[0m\u001b[0;34m\u001b[0m\u001b[0m\n\u001b[0;32m---> 42\u001b[0;31m         \u001b[0;32mif\u001b[0m \u001b[0mmotif\u001b[0m \u001b[0;32mnot\u001b[0m \u001b[0;32min\u001b[0m \u001b[0msequences\u001b[0m\u001b[0;34m[\u001b[0m\u001b[0mi\u001b[0m\u001b[0;34m]\u001b[0m\u001b[0;34m:\u001b[0m\u001b[0;34m\u001b[0m\u001b[0;34m\u001b[0m\u001b[0m\n\u001b[0m\u001b[1;32m     43\u001b[0m             \u001b[0;32mif\u001b[0m \u001b[0mmotif\u001b[0m \u001b[0;32min\u001b[0m \u001b[0mshared_motifs\u001b[0m\u001b[0;34m:\u001b[0m\u001b[0;34m\u001b[0m\u001b[0;34m\u001b[0m\u001b[0m\n\u001b[1;32m     44\u001b[0m                 \u001b[0mshared_motifs\u001b[0m\u001b[0;34m.\u001b[0m\u001b[0mremove\u001b[0m\u001b[0;34m(\u001b[0m\u001b[0mmotif\u001b[0m\u001b[0;34m)\u001b[0m\u001b[0;34m\u001b[0m\u001b[0;34m\u001b[0m\u001b[0m\n",
      "\u001b[0;31mIndexError\u001b[0m: list index out of range"
     ]
    }
   ],
   "source": [
    "fasta_file = open('Inputs/Motifs_in_DNA2.txt', 'r') #open file in read mode\n",
    "FASTA_DICT = {} #initialise dictionary object\n",
    "\n",
    "for line in fasta_file: #iterate through the lines in the fasta file\n",
    "    line = line.rstrip() #remove the newline character from the end of the line\n",
    "    \n",
    "    if line[0] == '>':\n",
    "        seq_name = line[1:]\n",
    "        FASTA_DICT[seq_name] = '' # create empty entry in dictionary value \n",
    "    elif line[0] != '>':\n",
    "        sequence = line\n",
    "        FASTA_DICT[seq_name] = FASTA_DICT[seq_name] + sequence\n",
    "        \n",
    "print (FASTA_DICT)\n",
    "        \n",
    "fasta_file.close()\n",
    "unshared = []\n",
    "\n",
    "for header in FASTA_DICT.keys(): #take the key from the dictionary FASTA_DICT and store as header variable\n",
    "    sequence = FASTA_DICT[header] # take the value for the header key in FASTA_DICAT and store sequence variable\n",
    "    length = len (sequence) #take length of the sequence variable (total sequence length)\n",
    "    motifs = []\n",
    "    x = 0\n",
    "    while x <= length:\n",
    "        for i in range(length):\n",
    "            if (sequence[i:x]) != '':\n",
    "                motifs.append(sequence[i:x])\n",
    "        x = x + 1\n",
    "print(motifs)\n",
    "\n",
    "shared_motifs = motifs\n",
    "\n",
    "\n",
    "sequences =  []\n",
    "for sequence in FASTA_DICT.values():\n",
    "    sequences.append(sequence)\n",
    "print (sequences)\n",
    "i = 0\n",
    "while i <= len (sequences):\n",
    "    i = 0\n",
    "    for motif in motifs:\n",
    "        if motif not in sequences[i]:\n",
    "            present = False\n",
    "            continue\n",
    "        else:\n",
    "            i = i + 1\n",
    "            continue\n",
    "            print (motif)\n",
    "        continue\n",
    "print (motifs)\n",
    "print (shared_motifs)"
   ]
  },
  {
   "cell_type": "code",
   "execution_count": 7,
   "metadata": {},
   "outputs": [
    {
     "name": "stdout",
     "output_type": "stream",
     "text": [
      "{'Rosalind_1': 'GATTACA', 'Rosalind_2': 'TAGACCA', 'Rosalind_3': 'ATACA'}\n",
      "['A', 'AT', 'T', 'ATA', 'TA', 'A', 'ATAC', 'TAC', 'AC', 'C', 'ATACA', 'TACA', 'ACA', 'CA', 'A']\n",
      "['A', 'AT', 'T', 'ATA', 'TA', 'A', 'ATAC', 'TAC', 'AC', 'C', 'ATACA', 'TACA', 'ACA', 'CA', 'A']\n"
     ]
    }
   ],
   "source": [
    "fasta_file = open('Inputs/Motifs_in_DNA2.txt', 'r') #open file in read mode\n",
    "FASTA_DICT = {} #initialise dictionary object\n",
    "\n",
    "for line in fasta_file: #iterate through the lines in the fasta file\n",
    "    line = line.rstrip() #remove the newline character from the end of the line\n",
    "    \n",
    "    if line[0] == '>':\n",
    "        seq_name = line[1:]\n",
    "        FASTA_DICT[seq_name] = '' # create empty entry in dictionary value \n",
    "    elif line[0] != '>':\n",
    "        sequence = line\n",
    "        FASTA_DICT[seq_name] = FASTA_DICT[seq_name] + sequence\n",
    "        \n",
    "print (FASTA_DICT)\n",
    "        \n",
    "fasta_file.close()\n",
    "unshared = []\n",
    "\n",
    "for header in FASTA_DICT.keys(): #take the key from the dictionary FASTA_DICT and store as header variable\n",
    "    sequence = FASTA_DICT[header] # take the value for the header key in FASTA_DICAT and store sequence variable\n",
    "    length = len (sequence) #take length of the sequence variable (total sequence length)\n",
    "    motifs = []\n",
    "    x = 0\n",
    "    while x <= length:\n",
    "        for i in range(length):\n",
    "            if (sequence[i:x]) != '':\n",
    "                motifs.append(sequence[i:x])\n",
    "        x = x + 1\n",
    "print(motifs)\n",
    "\n",
    "shared_motifs = []\n",
    "for motif in motifs:\n",
    "    present = True\n",
    "    for sequence in FASTA_DICT.values(): \n",
    "        if motif not in sequence:\n",
    "            present = False\n",
    "    if present == True:\n",
    "        shared_motifs.append(motif)\n",
    "        continue\n",
    "print (motifs)\n"
   ]
  },
  {
   "cell_type": "code",
   "execution_count": 12,
   "metadata": {},
   "outputs": [
    {
     "name": "stdout",
     "output_type": "stream",
     "text": [
      "A\n",
      "T\n",
      "TA\n",
      "A\n",
      "AC\n",
      "C\n",
      "CA\n",
      "A\n"
     ]
    }
   ],
   "source": [
    "motifs = ['A', 'AT', 'T', 'ATA', 'TA', 'A', 'ATAC', 'TAC', 'AC', 'C', 'ATACA', 'TACA', 'ACA', 'CA', 'A']\n",
    "sequences = ['GATTACA', 'TAGACCA', 'ATACA']\n",
    "\n",
    "shared_motifs = []\n",
    "\n",
    "for motif in motifs:\n",
    "    present == True\n",
    "    i = 0\n",
    "    for sequence in sequences:\n",
    "        if motif not in sequence:\n",
    "            present == False\n",
    "            i = i + 1\n",
    "            break\n",
    "        elif motif in sequence:\n",
    "            i = i + 1\n",
    "            if i == len(sequences):\n",
    "                if present == True:\n",
    "                    print (motif)\n",
    "                continue\n",
    "                "
   ]
  },
  {
   "cell_type": "code",
   "execution_count": 15,
   "metadata": {},
   "outputs": [
    {
     "name": "stdout",
     "output_type": "stream",
     "text": [
      "['A', 'T', 'TA', 'A', 'AC', 'C', 'CA', 'A']\n"
     ]
    }
   ],
   "source": [
    "motifs = ['A', 'AT', 'T', 'ATA', 'TA', 'A', 'ATAC', 'TAC', 'AC', 'C', 'ATACA', 'TACA', 'ACA', 'CA', 'A']\n",
    "sequences = ['GATTACA', 'TAGACCA', 'ATACA']\n",
    "\n",
    "shared_motifs = []\n",
    "\n",
    "for motif in motifs:\n",
    "    present == True\n",
    "    i = 0\n",
    "    for sequence in sequences:\n",
    "        if motif not in sequence:\n",
    "            present == False\n",
    "            i = i + 1\n",
    "            break\n",
    "        elif motif in sequence:\n",
    "            i = i + 1\n",
    "            if i == len(sequences):\n",
    "                if present == True:\n",
    "                    shared_motifs.append(motif)\n",
    "                continue\n",
    "print (shared_motifs)"
   ]
  },
  {
   "cell_type": "code",
   "execution_count": 16,
   "metadata": {},
   "outputs": [
    {
     "name": "stdout",
     "output_type": "stream",
     "text": [
      "{'Rosalind_1': 'GATTACA', 'Rosalind_2': 'TAGACCA', 'Rosalind_3': 'ATACA'}\n",
      "['A', 'AT', 'T', 'ATA', 'TA', 'A', 'ATAC', 'TAC', 'AC', 'C', 'ATACA', 'TACA', 'ACA', 'CA', 'A']\n",
      "['A', 'T', 'TA', 'A', 'AC', 'C', 'CA', 'A']\n"
     ]
    }
   ],
   "source": [
    "fasta_file = open('Inputs/Motifs_in_DNA2.txt', 'r') #open file in read mode\n",
    "FASTA_DICT = {} #initialise dictionary object\n",
    "\n",
    "for line in fasta_file: #iterate through the lines in the fasta file\n",
    "    line = line.rstrip() #remove the newline character from the end of the line\n",
    "    \n",
    "    if line[0] == '>':\n",
    "        seq_name = line[1:]\n",
    "        FASTA_DICT[seq_name] = '' # create empty entry in dictionary value \n",
    "    elif line[0] != '>':\n",
    "        sequence = line\n",
    "        FASTA_DICT[seq_name] = FASTA_DICT[seq_name] + sequence\n",
    "        \n",
    "print (FASTA_DICT)\n",
    "        \n",
    "fasta_file.close()\n",
    "unshared = []\n",
    "\n",
    "for header in FASTA_DICT.keys(): #take the key from the dictionary FASTA_DICT and store as header variable\n",
    "    sequence = FASTA_DICT[header] # take the value for the header key in FASTA_DICAT and store sequence variable\n",
    "    length = len (sequence) #take length of the sequence variable (total sequence length)\n",
    "    motifs = []\n",
    "    x = 0\n",
    "    while x <= length:\n",
    "        for i in range(length):\n",
    "            if (sequence[i:x]) != '':\n",
    "                motifs.append(sequence[i:x])\n",
    "        x = x + 1\n",
    "print(motifs)\n",
    "\n",
    "shared_motifs = []\n",
    "for motif in motifs:\n",
    "    present == True\n",
    "    i = 0\n",
    "    for sequence in sequences:\n",
    "        if motif not in sequence:\n",
    "            present == False\n",
    "            i = i + 1\n",
    "            break\n",
    "        elif motif in sequence:\n",
    "            i = i + 1\n",
    "            if i == len(sequences):\n",
    "                if present == True:\n",
    "                    shared_motifs.append(motif)\n",
    "                continue\n",
    "print (shared_motifs)"
   ]
  },
  {
   "cell_type": "code",
   "execution_count": 18,
   "metadata": {},
   "outputs": [
    {
     "name": "stdout",
     "output_type": "stream",
     "text": [
      "['GATTACA']\n",
      "['GATTACA', 'TAGACCA']\n",
      "['GATTACA', 'TAGACCA', 'ATACA']\n"
     ]
    }
   ],
   "source": [
    "sequences = []\n",
    "for m in FASTA_DICT.values():\n",
    "    sequences.append(m)"
   ]
  },
  {
   "cell_type": "markdown",
   "metadata": {},
   "source": [
    "# the below code works but isn't very efficient (took > 1minute for the sequence data provided. sorting initial fasta_files to get shortest might help with this and only testing a new motif if it is larger than the previous sucessful motifs."
   ]
  },
  {
   "cell_type": "code",
   "execution_count": null,
   "metadata": {},
   "outputs": [],
   "source": [
    "# open FASTA file and splite into headers and sequences dictionary from previous code\n",
    "\n",
    "\n",
    "\"\"\"\n",
    "including the following code at the beginning of the script will specify arguments in the command line\n",
    "that refer to variables in the code. This particular one gives the filename as a variable which is the \n",
    "second argument (after the actual script) can include multiple arguments. The try function will check if\n",
    "there is an input there or print an error if none is found.\n",
    "\n",
    "import sys\n",
    "filename = sys.argv[1]\n",
    "\n",
    "try:\n",
    "    fasta_file = open(filename, 'r') #open file in read mode\n",
    "except IOError:\n",
    "    print ('file does not exist')\n",
    "\n",
    "\"\"\"\n",
    "\n",
    "import sys\n",
    "filename = sys.argv[1]\n",
    "\n",
    "try:\n",
    "    fasta_file = open(filename, 'r') #open file in read mode\n",
    "except IOError:\n",
    "    print ('file does not exist')\n",
    "    \n",
    "\n",
    "FASTA_DICT = {} #initialise dictionary object\n",
    "\n",
    "for line in fasta_file: #iterate through the lines in the fasta file\n",
    "    line = line.rstrip() #remove the newline character from the end of the line\n",
    "    \n",
    "    if line[0] == '>':\n",
    "        seq_name = line[1:]\n",
    "        FASTA_DICT[seq_name] = '' # create empty entry in dictionary value \n",
    "    elif line[0] != '>':\n",
    "        sequence = line\n",
    "        FASTA_DICT[seq_name] = FASTA_DICT[seq_name] + sequence\n",
    "        \n",
    "fasta_file.close()\n",
    "\n",
    "# compute GC content and print maximum on screen\n",
    "maxGC = 0 #initialise maximum GC variable (needs to be outside of for loop)\n",
    "for header in FASTA_DICT.keys(): #take the key from the dictionary FASTA_DICT and store as header variable\n",
    "    GC = 0 # initialise GC variable\n",
    "    sequence = FASTA_DICT[header] # take the value for the header key in FASTA_DICAT and store sequence variable\n",
    "    length = len (sequence) #take length of the sequence variable (total sequence length)\n",
    "    for nucleotide in sequence: #iterate through each nucleotide in the sequence variable\n",
    "        if nucleotide == 'C':\n",
    "            GC = GC + 1\n",
    "        if nucleotide == 'G':\n",
    "            GC = GC + 1 # if the nucleotide is a G or C then increase GC count by 1 else continue to next variable\n",
    "        if nucleotide not in ['A', 'T', 'C', 'G']:\n",
    "            print (header, 'contains invalid sequence')\n",
    "        else: \n",
    "            continue\n",
    "    GC_percent = (GC / length) * 100\n",
    "    if GC_percent > maxGC:\n",
    "        maxGC = GC_percent\n",
    "        maxGCstr = str(maxGC)\n",
    "        maxsequence = header\n",
    "    else:\n",
    "        continue\n",
    "\n",
    "    \n",
    "print (maxsequence)\n",
    "print (maxGCstr)        "
   ]
  }
 ],
 "metadata": {
  "kernelspec": {
   "display_name": "Python 3",
   "language": "python",
   "name": "python3"
  },
  "language_info": {
   "codemirror_mode": {
    "name": "ipython",
    "version": 3
   },
   "file_extension": ".py",
   "mimetype": "text/x-python",
   "name": "python",
   "nbconvert_exporter": "python",
   "pygments_lexer": "ipython3",
   "version": "3.7.3"
  }
 },
 "nbformat": 4,
 "nbformat_minor": 2
}
